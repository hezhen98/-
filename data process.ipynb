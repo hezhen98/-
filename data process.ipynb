{
 "cells": [
  {
   "cell_type": "markdown",
   "source": [
    " # processing.minmaxscaler"
   ],
   "metadata": {
    "collapsed": false
   }
  },
  {
   "cell_type": "code",
   "execution_count": 2,
   "outputs": [],
   "source": [
    "from sklearn.preprocessing import MinMaxScaler"
   ],
   "metadata": {
    "collapsed": false
   }
  },
  {
   "cell_type": "code",
   "execution_count": 3,
   "outputs": [],
   "source": [
    "data = [[-1,2],[-0.5,6],[0,10],[1,18]]"
   ],
   "metadata": {
    "collapsed": false
   }
  },
  {
   "cell_type": "code",
   "execution_count": 5,
   "outputs": [
    {
     "data": {
      "text/plain": "[[-1, 2], [-0.5, 6], [0, 10], [1, 18]]"
     },
     "execution_count": 5,
     "metadata": {},
     "output_type": "execute_result"
    }
   ],
   "source": [
    "data"
   ],
   "metadata": {
    "collapsed": false
   }
  },
  {
   "cell_type": "code",
   "execution_count": 6,
   "outputs": [
    {
     "data": {
      "text/plain": "     0   1\n0 -1.0   2\n1 -0.5   6\n2  0.0  10\n3  1.0  18",
      "text/html": "<div>\n<style scoped>\n    .dataframe tbody tr th:only-of-type {\n        vertical-align: middle;\n    }\n\n    .dataframe tbody tr th {\n        vertical-align: top;\n    }\n\n    .dataframe thead th {\n        text-align: right;\n    }\n</style>\n<table border=\"1\" class=\"dataframe\">\n  <thead>\n    <tr style=\"text-align: right;\">\n      <th></th>\n      <th>0</th>\n      <th>1</th>\n    </tr>\n  </thead>\n  <tbody>\n    <tr>\n      <th>0</th>\n      <td>-1.0</td>\n      <td>2</td>\n    </tr>\n    <tr>\n      <th>1</th>\n      <td>-0.5</td>\n      <td>6</td>\n    </tr>\n    <tr>\n      <th>2</th>\n      <td>0.0</td>\n      <td>10</td>\n    </tr>\n    <tr>\n      <th>3</th>\n      <td>1.0</td>\n      <td>18</td>\n    </tr>\n  </tbody>\n</table>\n</div>"
     },
     "execution_count": 6,
     "metadata": {},
     "output_type": "execute_result"
    }
   ],
   "source": [
    "import pandas as pd\n",
    "pd.DataFrame(data)"
   ],
   "metadata": {
    "collapsed": false
   }
  },
  {
   "cell_type": "code",
   "execution_count": 7,
   "outputs": [],
   "source": [
    "#实现归一化\n",
    "scaler = MinMaxScaler()\n",
    "scaler = scaler.fit(data)\n",
    "result = scaler.transform(data)"
   ],
   "metadata": {
    "collapsed": false
   }
  },
  {
   "cell_type": "code",
   "execution_count": 8,
   "outputs": [
    {
     "data": {
      "text/plain": "array([[0.  , 0.  ],\n       [0.25, 0.25],\n       [0.5 , 0.5 ],\n       [1.  , 1.  ]])"
     },
     "execution_count": 8,
     "metadata": {},
     "output_type": "execute_result"
    }
   ],
   "source": [
    "result"
   ],
   "metadata": {
    "collapsed": false
   }
  },
  {
   "cell_type": "code",
   "execution_count": 9,
   "outputs": [],
   "source": [
    "result_ = scaler.fit_transform(data)"
   ],
   "metadata": {
    "collapsed": false
   }
  },
  {
   "cell_type": "code",
   "execution_count": 10,
   "outputs": [
    {
     "data": {
      "text/plain": "array([[-1. ,  2. ],\n       [-0.5,  6. ],\n       [ 0. , 10. ],\n       [ 1. , 18. ]])"
     },
     "execution_count": 10,
     "metadata": {},
     "output_type": "execute_result"
    }
   ],
   "source": [
    "scaler.inverse_transform(result)"
   ],
   "metadata": {
    "collapsed": false
   }
  },
  {
   "cell_type": "code",
   "execution_count": 11,
   "outputs": [
    {
     "data": {
      "text/plain": "array([[ 5.  ,  5.  ],\n       [ 6.25,  6.25],\n       [ 7.5 ,  7.5 ],\n       [10.  , 10.  ]])"
     },
     "execution_count": 11,
     "metadata": {},
     "output_type": "execute_result"
    }
   ],
   "source": [
    "# 使用MinMaxScaler 的参数feature_range实现将数据归一化到[0,1]以外的范围中\n",
    "data = [[-1,2],[-0.5,6],[0,10],[1,18]]\n",
    "scaler = MinMaxScaler(feature_range=[5,10])\n",
    "scaler.fit_transform(data)"
   ],
   "metadata": {
    "collapsed": false
   }
  },
  {
   "cell_type": "code",
   "execution_count": 12,
   "outputs": [
    {
     "data": {
      "text/plain": "array([[-0.5  ,  1.875],\n       [ 0.   ,  5.875],\n       [ 0.5  ,  9.875],\n       [ 1.5  , 17.875]])"
     },
     "execution_count": 12,
     "metadata": {},
     "output_type": "execute_result"
    }
   ],
   "source": [
    "#使用numpy来实现归一化\n",
    "import numpy as np\n",
    "x = np.array([[-1,2],[-0.5,6],[0,10],[1,18]])\n",
    "#归一化\n",
    "x_nor = (x - x.min(axis=0)/(x.max(axis=0) - x.min(axis=0)))\n",
    "x_nor"
   ],
   "metadata": {
    "collapsed": false
   }
  },
  {
   "cell_type": "code",
   "execution_count": 13,
   "outputs": [],
   "source": [
    "#逆转归一化\n",
    "x_returned =x_nor *(x.max(axis=0) - x.min(axis=0)) + x.min(axis=0)"
   ],
   "metadata": {
    "collapsed": false
   }
  },
  {
   "cell_type": "code",
   "execution_count": 14,
   "outputs": [
    {
     "data": {
      "text/plain": "array([[ -2.,  32.],\n       [ -1.,  96.],\n       [  0., 160.],\n       [  2., 288.]])"
     },
     "execution_count": 14,
     "metadata": {},
     "output_type": "execute_result"
    }
   ],
   "source": [
    "x_returned"
   ],
   "metadata": {
    "collapsed": false
   }
  },
  {
   "cell_type": "markdown",
   "source": [
    "# preprocessng.StandardScaler"
   ],
   "metadata": {
    "collapsed": false
   }
  },
  {
   "cell_type": "code",
   "execution_count": 15,
   "outputs": [],
   "source": [
    "# x1 = (x-均值)/标准差"
   ],
   "metadata": {
    "collapsed": false
   }
  },
  {
   "cell_type": "code",
   "execution_count": 19,
   "outputs": [],
   "source": [
    "from sklearn.preprocessing import StandardScaler\n",
    "data = [[-1,2],[-0.5,6],[0,10],[1,18]]\n",
    "ss = StandardScaler()\n",
    "x_std = ss.fit_transform(data)"
   ],
   "metadata": {
    "collapsed": false
   }
  },
  {
   "cell_type": "code",
   "execution_count": 17,
   "outputs": [
    {
     "data": {
      "text/plain": "array([-0.125,  9.   ])"
     },
     "execution_count": 17,
     "metadata": {},
     "output_type": "execute_result"
    }
   ],
   "source": [
    "ss.mean_"
   ],
   "metadata": {
    "collapsed": false
   }
  },
  {
   "cell_type": "code",
   "execution_count": 18,
   "outputs": [
    {
     "data": {
      "text/plain": "array([ 0.546875, 35.      ])"
     },
     "execution_count": 18,
     "metadata": {},
     "output_type": "execute_result"
    }
   ],
   "source": [
    "ss.var_"
   ],
   "metadata": {
    "collapsed": false
   }
  },
  {
   "cell_type": "code",
   "execution_count": 20,
   "outputs": [
    {
     "data": {
      "text/plain": "1.0"
     },
     "execution_count": 20,
     "metadata": {},
     "output_type": "execute_result"
    }
   ],
   "source": [
    "x_std.mean()\n",
    "x_std.std()"
   ],
   "metadata": {
    "collapsed": false
   }
  },
  {
   "cell_type": "code",
   "execution_count": 21,
   "outputs": [
    {
     "data": {
      "text/plain": "array([[-1. ,  2. ],\n       [-0.5,  6. ],\n       [ 0. , 10. ],\n       [ 1. , 18. ]])"
     },
     "execution_count": 21,
     "metadata": {},
     "output_type": "execute_result"
    }
   ],
   "source": [
    "ss.inverse_transform(x_std)"
   ],
   "metadata": {
    "collapsed": false
   }
  },
  {
   "cell_type": "markdown",
   "source": [
    "# 2.2 缺失值"
   ],
   "metadata": {
    "collapsed": false
   }
  },
  {
   "cell_type": "code",
   "execution_count": 25,
   "outputs": [],
   "source": [
    "import pandas as pd\n",
    "data = pd.read_csv('./Narrativedata.csv',index_col=0)# 第0列作为索引"
   ],
   "metadata": {
    "collapsed": false
   }
  },
  {
   "cell_type": "code",
   "execution_count": 30,
   "outputs": [
    {
     "data": {
      "text/plain": "     count       mean        std   min     25%   50%   75%   max\nAge  714.0  29.699118  14.526497  0.42  20.125  28.0  38.0  80.0",
      "text/html": "<div>\n<style scoped>\n    .dataframe tbody tr th:only-of-type {\n        vertical-align: middle;\n    }\n\n    .dataframe tbody tr th {\n        vertical-align: top;\n    }\n\n    .dataframe thead th {\n        text-align: right;\n    }\n</style>\n<table border=\"1\" class=\"dataframe\">\n  <thead>\n    <tr style=\"text-align: right;\">\n      <th></th>\n      <th>count</th>\n      <th>mean</th>\n      <th>std</th>\n      <th>min</th>\n      <th>25%</th>\n      <th>50%</th>\n      <th>75%</th>\n      <th>max</th>\n    </tr>\n  </thead>\n  <tbody>\n    <tr>\n      <th>Age</th>\n      <td>714.0</td>\n      <td>29.699118</td>\n      <td>14.526497</td>\n      <td>0.42</td>\n      <td>20.125</td>\n      <td>28.0</td>\n      <td>38.0</td>\n      <td>80.0</td>\n    </tr>\n  </tbody>\n</table>\n</div>"
     },
     "execution_count": 30,
     "metadata": {},
     "output_type": "execute_result"
    }
   ],
   "source": [
    "data.head()"
   ],
   "metadata": {
    "collapsed": false
   }
  },
  {
   "cell_type": "code",
   "execution_count": 34,
   "outputs": [
    {
     "data": {
      "text/plain": "Age         0.801347\nSex         1.000000\nEmbarked    0.997755\nSurvived    1.000000\ndtype: float64"
     },
     "execution_count": 34,
     "metadata": {},
     "output_type": "execute_result"
    }
   ],
   "source": [
    "data.count(axis =0)/len(data)"
   ],
   "metadata": {
    "collapsed": false
   }
  },
  {
   "cell_type": "markdown",
   "source": [
    "# impute.SimpleImputer"
   ],
   "metadata": {
    "collapsed": false
   }
  },
  {
   "cell_type": "code",
   "execution_count": 46,
   "outputs": [],
   "source": [
    "Age = data.loc[:,'Age'].values.reshape(-1,1)#sklearn中特征矩阵必须是二维"
   ],
   "metadata": {
    "collapsed": false
   }
  },
  {
   "cell_type": "code",
   "execution_count": 55,
   "outputs": [],
   "source": [
    "from sklearn.impute import SimpleImputer\n",
    "imp_mean = SimpleImputer()\n",
    "imp_median = SimpleImputer(strategy='median')\n",
    "imp_0 = SimpleImputer(strategy='constant',fill_value=0)"
   ],
   "metadata": {
    "collapsed": false
   }
  },
  {
   "cell_type": "code",
   "execution_count": 56,
   "outputs": [],
   "source": [
    "imp_mean = imp_mean.fit_transform(Age)\n",
    "imp_median = imp_median.fit_transform(Age)\n",
    "imp_0 = imp_0.fit_transform(Age)"
   ],
   "metadata": {
    "collapsed": false
   }
  },
  {
   "cell_type": "code",
   "execution_count": 57,
   "outputs": [],
   "source": [
    "data.loc[:,'Age'] = imp_median"
   ],
   "metadata": {
    "collapsed": false
   }
  },
  {
   "cell_type": "code",
   "execution_count": 58,
   "outputs": [
    {
     "name": "stdout",
     "output_type": "stream",
     "text": [
      "<class 'pandas.core.frame.DataFrame'>\n",
      "Index: 891 entries, 0 to 890\n",
      "Data columns (total 4 columns):\n",
      " #   Column    Non-Null Count  Dtype  \n",
      "---  ------    --------------  -----  \n",
      " 0   Age       891 non-null    float64\n",
      " 1   Sex       891 non-null    object \n",
      " 2   Embarked  889 non-null    object \n",
      " 3   Survived  891 non-null    object \n",
      "dtypes: float64(1), object(3)\n",
      "memory usage: 34.8+ KB\n"
     ]
    }
   ],
   "source": [
    "data.info()"
   ],
   "metadata": {
    "collapsed": false
   }
  },
  {
   "cell_type": "code",
   "execution_count": 59,
   "outputs": [],
   "source": [
    "#使用众数填补embarked\n",
    "Embarked = data.loc[:,'Embarked'].values.reshape(-1,1)"
   ],
   "metadata": {
    "collapsed": false
   }
  },
  {
   "cell_type": "code",
   "execution_count": 60,
   "outputs": [
    {
     "name": "stdout",
     "output_type": "stream",
     "text": [
      "<class 'pandas.core.frame.DataFrame'>\n",
      "Index: 891 entries, 0 to 890\n",
      "Data columns (total 4 columns):\n",
      " #   Column    Non-Null Count  Dtype  \n",
      "---  ------    --------------  -----  \n",
      " 0   Age       891 non-null    float64\n",
      " 1   Sex       891 non-null    object \n",
      " 2   Embarked  891 non-null    object \n",
      " 3   Survived  891 non-null    object \n",
      "dtypes: float64(1), object(3)\n",
      "memory usage: 34.8+ KB\n"
     ]
    }
   ],
   "source": [
    "imp_mode = SimpleImputer(strategy = 'most_frequent')\n",
    "data.loc[:,'Embarked'] = imp_mode.fit_transform(Embarked)\n",
    "data.info()\n"
   ],
   "metadata": {
    "collapsed": false
   }
  },
  {
   "cell_type": "code",
   "execution_count": 61,
   "outputs": [
    {
     "data": {
      "text/plain": "    Age     Sex Embarked Survived\n0  22.0    male        S       No\n1  38.0  female        C      Yes\n2  26.0  female        S      Yes\n3  35.0  female        S      Yes\n4  35.0    male        S       No",
      "text/html": "<div>\n<style scoped>\n    .dataframe tbody tr th:only-of-type {\n        vertical-align: middle;\n    }\n\n    .dataframe tbody tr th {\n        vertical-align: top;\n    }\n\n    .dataframe thead th {\n        text-align: right;\n    }\n</style>\n<table border=\"1\" class=\"dataframe\">\n  <thead>\n    <tr style=\"text-align: right;\">\n      <th></th>\n      <th>Age</th>\n      <th>Sex</th>\n      <th>Embarked</th>\n      <th>Survived</th>\n    </tr>\n  </thead>\n  <tbody>\n    <tr>\n      <th>0</th>\n      <td>22.0</td>\n      <td>male</td>\n      <td>S</td>\n      <td>No</td>\n    </tr>\n    <tr>\n      <th>1</th>\n      <td>38.0</td>\n      <td>female</td>\n      <td>C</td>\n      <td>Yes</td>\n    </tr>\n    <tr>\n      <th>2</th>\n      <td>26.0</td>\n      <td>female</td>\n      <td>S</td>\n      <td>Yes</td>\n    </tr>\n    <tr>\n      <th>3</th>\n      <td>35.0</td>\n      <td>female</td>\n      <td>S</td>\n      <td>Yes</td>\n    </tr>\n    <tr>\n      <th>4</th>\n      <td>35.0</td>\n      <td>male</td>\n      <td>S</td>\n      <td>No</td>\n    </tr>\n  </tbody>\n</table>\n</div>"
     },
     "execution_count": 61,
     "metadata": {},
     "output_type": "execute_result"
    }
   ],
   "source": [
    "import pandas as pd\n",
    "data = pd.read_csv('./Narrativedata.csv',index_col=0)# 第0列作为索引\n",
    "\n",
    "data.head()"
   ],
   "metadata": {
    "collapsed": false
   }
  },
  {
   "cell_type": "code",
   "execution_count": 62,
   "outputs": [],
   "source": [
    "data.loc[:,'Age'] = data.loc[:,'Age'].fillna(data.loc[:,'Age'].median())"
   ],
   "metadata": {
    "collapsed": false
   }
  },
  {
   "cell_type": "code",
   "execution_count": 63,
   "outputs": [],
   "source": [
    "data.dropna(axis=0,inplace=True)"
   ],
   "metadata": {
    "collapsed": false
   }
  },
  {
   "cell_type": "markdown",
   "source": [
    "# 2.3 处理分类型特征：编码与哑变量"
   ],
   "metadata": {
    "collapsed": false
   }
  },
  {
   "cell_type": "markdown",
   "source": [
    "# preprocessing.LabelEncoder 标签专用，能够将分类转换为数值"
   ],
   "metadata": {
    "collapsed": false
   }
  },
  {
   "cell_type": "code",
   "execution_count": 65,
   "outputs": [
    {
     "data": {
      "text/plain": "array(['No', 'Yes', 'Yes', 'Yes', 'No', 'No', 'No', 'No', 'Yes', 'Yes',\n       'Unknown', 'Yes', 'No', 'No', 'No', 'Unknown', 'No', 'Yes', 'No',\n       'Yes', 'Unknown', 'Yes', 'Yes', 'Yes', 'No', 'Unknown', 'No', 'No',\n       'Yes', 'No', 'No', 'Yes', 'Yes', 'No', 'No', 'No', 'Yes', 'No',\n       'No', 'Yes', 'No', 'No', 'No', 'Unknown', 'Yes', 'No', 'No', 'Yes',\n       'No', 'No', 'No', 'No', 'Yes', 'Yes', 'No', 'Yes', 'Yes', 'No',\n       'Yes', 'No', 'No', 'No', 'No', 'No', 'Yes', 'Yes', 'No', 'Yes',\n       'No', 'No', 'No', 'No', 'No', 'Yes', 'Unknown', 'No', 'Unknown',\n       'Yes', 'Yes', 'No', 'Yes', 'Yes', 'No', 'Yes', 'Yes', 'No', 'No',\n       'Yes', 'No', 'No', 'No', 'No', 'No', 'No', 'No', 'Unknown', 'Yes',\n       'Yes', 'No', 'No', 'No', 'No', 'No', 'No', 'No', 'Yes', 'Yes',\n       'No', 'Yes', 'No', 'No', 'No', 'No', 'No', 'No', 'No', 'No', 'No',\n       'No', 'No', 'No', 'No', 'Yes', 'No', 'Yes', 'No', 'Yes', 'Yes',\n       'No', 'Unknown', 'No', 'No', 'Yes', 'No', 'No', 'Yes', 'No', 'No',\n       'No', 'Unknown', 'Unknown', 'Yes', 'No', 'No', 'No', 'Yes', 'No',\n       'No', 'Unknown', 'No', 'Unknown', 'Unknown', 'No', 'No', 'No',\n       'Yes', 'No', 'No', 'No', 'No', 'Yes', 'No', 'No', 'No', 'Yes',\n       'Yes', 'No', 'No', 'No', 'Unknown', 'No', 'Yes', 'No', 'No', 'No',\n       'Unknown', 'No', 'No', 'No', 'No', 'No', 'No', 'Unknown', 'Yes',\n       'No', 'Yes', 'Yes', 'No', 'No', 'Yes', 'No', 'Yes', 'Unknown',\n       'Yes', 'Yes', 'No', 'No', 'Unknown', 'No', 'No', 'No', 'No', 'No',\n       'Yes', 'No', 'No', 'Yes', 'Yes', 'Yes', 'Unknown', 'Yes',\n       'Unknown', 'No', 'No', 'Yes', 'Yes', 'No', 'Yes', 'No', 'Yes',\n       'No', 'No', 'No', 'Yes', 'No', 'Yes', 'No', 'No', 'No', 'Yes',\n       'Unknown', 'No', 'Yes', 'No', 'No', 'No', 'Yes', 'No', 'No', 'No',\n       'Yes', 'No', 'No', 'No', 'No', 'No', 'Yes', 'Yes', 'No', 'No',\n       'No', 'No', 'Unknown', 'No', 'Yes', 'Yes', 'Yes', 'Yes', 'Yes',\n       'No', 'Yes', 'No', 'Unknown', 'No', 'No', 'Unknown', 'Yes', 'Yes',\n       'Unknown', 'No', 'Yes', 'Yes', 'No', 'Yes', 'Yes', 'No', 'No',\n       'Unknown', 'Unknown', 'No', 'No', 'No', 'Yes', 'No', 'No', 'Yes',\n       'No', 'Yes', 'Yes', 'Yes', 'Yes', 'No', 'No', 'No', 'No', 'No',\n       'No', 'Yes', 'Yes', 'Yes', 'Yes', 'Unknown', 'Yes', 'No', 'Yes',\n       'Yes', 'Yes', 'No', 'Yes', 'Yes', 'Yes', 'No', 'No', 'No', 'Yes',\n       'Yes', 'Unknown', 'Yes', 'Yes', 'No', 'Unknown', 'Yes', 'Yes',\n       'No', 'Yes', 'No', 'Unknown', 'Yes', 'Yes', 'Yes', 'No', 'Unknown',\n       'No', 'Yes', 'No', 'No', 'Yes', 'Unknown', 'No', 'Yes', 'Yes',\n       'No', 'No', 'No', 'Yes', 'Yes', 'Yes', 'Yes', 'No', 'No', 'No',\n       'No', 'No', 'No', 'No', 'Yes', 'No', 'Yes', 'Yes', 'No', 'No',\n       'No', 'No', 'No', 'No', 'Yes', 'Yes', 'Yes', 'Unknown', 'Yes',\n       'No', 'No', 'No', 'No', 'Yes', 'Yes', 'No', 'No', 'No', 'Yes',\n       'Yes', 'No', 'Yes', 'No', 'No', 'No', 'Yes', 'No', 'Yes', 'Yes',\n       'Yes', 'No', 'Yes', 'Yes', 'No', 'No', 'No', 'No', 'Yes', 'Yes',\n       'Unknown', 'No', 'No', 'No', 'Unknown', 'No', 'Yes', 'No', 'No',\n       'No', 'No', 'Yes', 'No', 'Yes', 'No', 'Unknown', 'Yes', 'No', 'No',\n       'No', 'No', 'No', 'No', 'No', 'No', 'Yes', 'Yes', 'No', 'Yes',\n       'Yes', 'Yes', 'Yes', 'No', 'No', 'Yes', 'No', 'Yes', 'No', 'No',\n       'Yes', 'No', 'No', 'Yes', 'Yes', 'Yes', 'Yes', 'Yes', 'Yes', 'Yes',\n       'No', 'No', 'No', 'Yes', 'Unknown', 'Yes', 'No', 'Yes', 'Yes',\n       'No', 'Yes', 'Unknown', 'No', 'No', 'No', 'No', 'No', 'No', 'No',\n       'Unknown', 'Unknown', 'No', 'Yes', 'Yes', 'No', 'No', 'Unknown',\n       'No', 'No', 'Yes', 'No', 'No', 'No', 'Yes', 'Yes', 'Unknown',\n       'Yes', 'No', 'No', 'Unknown', 'No', 'No', 'Unknown', 'No', 'No',\n       'No', 'Yes', 'Unknown', 'No', 'No', 'No', 'No', 'No', 'No', 'Yes',\n       'Unknown', 'Yes', 'Yes', 'Unknown', 'Yes', 'Yes', 'No', 'Yes',\n       'Yes', 'Unknown', 'No', 'Yes', 'No', 'Yes', 'No', 'Yes', 'No',\n       'No', 'Yes', 'No', 'No', 'Yes', 'No', 'No', 'No', 'Yes', 'No',\n       'Unknown', 'Yes', 'No', 'Yes', 'No', 'Yes', 'No', 'Yes', 'Yes',\n       'No', 'Unknown', 'Yes', 'No', 'No', 'Yes', 'Yes', 'Unknown', 'Yes',\n       'Yes', 'No', 'No', 'Yes', 'Yes', 'No', 'Yes', 'No', 'Yes', 'Yes',\n       'No', 'No', 'No', 'No', 'Unknown', 'No', 'Unknown', 'No',\n       'Unknown', 'Unknown', 'Yes', 'Yes', 'Unknown', 'Yes', 'No', 'No',\n       'Yes', 'Yes', 'No', 'Yes', 'Yes', 'Yes', 'No', 'No', 'No', 'Yes',\n       'No', 'Yes', 'Unknown', 'No', 'No', 'Yes', 'No', 'No', 'No', 'No',\n       'Yes', 'No', 'No', 'Yes', 'Yes', 'No', 'No', 'No', 'Yes', 'No',\n       'Unknown', 'Yes', 'Yes', 'Unknown', 'No', 'No', 'Yes', 'No', 'No',\n       'Unknown', 'No', 'No', 'Yes', 'No', 'No', 'Yes', 'Yes', 'No', 'No',\n       'No', 'Unknown', 'Yes', 'Unknown', 'No', 'Unknown', 'No', 'Yes',\n       'No', 'No', 'Yes', 'No', 'No', 'No', 'No', 'No', 'Yes', 'No',\n       'Yes', 'Yes', 'Yes', 'Unknown', 'Yes', 'No', 'Yes', 'No', 'Yes',\n       'No', 'Yes', 'No', 'No', 'No', 'No', 'No', 'No', 'Unknown', 'No',\n       'No', 'No', 'Yes', 'No', 'No', 'No', 'No', 'Yes', 'Yes', 'No',\n       'No', 'Yes', 'No', 'No', 'No', 'Yes', 'No', 'Yes', 'No', 'Yes',\n       'No', 'No', 'No', 'No', 'No', 'No', 'No', 'Yes', 'Yes', 'Yes',\n       'Yes', 'Unknown', 'Unknown', 'Unknown', 'Unknown', 'Yes', 'No',\n       'No', 'Yes', 'Yes', 'No', 'No', 'No', 'No', 'Unknown', 'Yes',\n       'Yes', 'Yes', 'Yes', 'No', 'Unknown', 'No', 'Unknown', 'Unknown',\n       'Yes', 'Unknown', 'No', 'No', 'Yes', 'No', 'No', 'No', 'Yes', 'No',\n       'Yes', 'Yes', 'Unknown', 'Unknown', 'Yes', 'No', 'Unknown', 'No',\n       'No', 'No', 'No', 'Yes', 'No', 'No', 'Yes', 'No', 'Yes', 'No',\n       'Yes', 'No', 'No', 'Yes', 'No', 'No', 'Yes', 'Yes', 'Unknown',\n       'No', 'Yes', 'Yes', 'No', 'No', 'No', 'Yes', 'No', 'No', 'Yes',\n       'Yes', 'No', 'Yes', 'No', 'No', 'No', 'No', 'No', 'Unknown', 'No',\n       'No', 'Unknown', 'Unknown', 'No', 'Yes', 'No', 'Yes', 'Yes', 'Yes',\n       'No', 'No', 'No', 'No', 'Yes', 'No', 'Yes', 'No', 'No', 'No', 'No',\n       'No', 'No', 'No', 'Yes', 'Yes', 'No', 'No', 'No', 'Yes', 'Yes',\n       'Yes', 'Yes', 'No', 'No', 'No', 'No', 'Yes', 'No', 'Unknown', 'No',\n       'Unknown', 'No', 'No', 'No', 'No', 'No', 'No', 'Yes', 'Yes', 'No',\n       'Yes', 'No', 'No', 'No', 'Yes', 'Yes', 'Yes', 'Yes', 'No', 'No',\n       'No', 'Yes', 'No', 'No', 'Yes', 'Yes', 'No', 'No', 'Yes', 'No',\n       'No', 'Unknown', 'No', 'No', 'No', 'Unknown', 'Unknown', 'No',\n       'Unknown', 'Yes', 'No', 'Yes', 'Yes', 'Yes', 'Yes', 'No', 'No',\n       'No', 'Yes', 'No', 'Unknown', 'Unknown', 'Unknown', 'No', 'No',\n       'Yes', 'No', 'Unknown', 'No', 'No', 'Yes', 'Yes', 'No', 'No', 'No',\n       'Yes', 'Yes', 'No', 'No', 'Unknown', 'No', 'No', 'No', 'Yes', 'No',\n       'Unknown', 'No'], dtype=object)"
     },
     "execution_count": 65,
     "metadata": {},
     "output_type": "execute_result"
    }
   ],
   "source": [
    "from sklearn.preprocessing import LabelEncoder\n",
    "y = data.iloc[:,-1]\n",
    "le = LabelEncoder()\n",
    "le = le.fit(y)\n",
    "label = le.transform(y)\n",
    "\n",
    "le.classes_\n",
    "label\n",
    "\n",
    "le.fit_transform(y)\n",
    "\n",
    "le.inverse_transform(label)\n"
   ],
   "metadata": {
    "collapsed": false
   }
  },
  {
   "cell_type": "code",
   "execution_count": 68,
   "outputs": [
    {
     "data": {
      "text/plain": "array([0, 2, 2, 2, 0, 0, 0, 0, 2, 2, 1, 2, 0, 0, 0, 1, 0, 2, 0, 2, 1, 2,\n       2, 2, 0, 1, 0, 0, 2, 0, 0, 2, 2, 0, 0, 0, 2, 0, 0, 2, 0, 0, 0, 1,\n       2, 0, 0, 2, 0, 0, 0, 0, 2, 2, 0, 2, 2, 0, 2, 0, 0, 0, 0, 0, 2, 2,\n       0, 2, 0, 0, 0, 0, 0, 2, 1, 0, 1, 2, 2, 0, 2, 2, 0, 2, 2, 0, 0, 2,\n       0, 0, 0, 0, 0, 0, 0, 1, 2, 2, 0, 0, 0, 0, 0, 0, 0, 2, 2, 0, 2, 0,\n       0, 0, 0, 0, 0, 0, 0, 0, 0, 0, 0, 0, 2, 0, 2, 0, 2, 2, 0, 1, 0, 0,\n       2, 0, 0, 2, 0, 0, 0, 1, 1, 2, 0, 0, 0, 2, 0, 0, 1, 0, 1, 1, 0, 0,\n       0, 2, 0, 0, 0, 0, 2, 0, 0, 0, 2, 2, 0, 0, 0, 1, 0, 2, 0, 0, 0, 1,\n       0, 0, 0, 0, 0, 0, 1, 2, 0, 2, 2, 0, 0, 2, 0, 2, 1, 2, 2, 0, 0, 1,\n       0, 0, 0, 0, 0, 2, 0, 0, 2, 2, 2, 1, 2, 1, 0, 0, 2, 2, 0, 2, 0, 2,\n       0, 0, 0, 2, 0, 2, 0, 0, 0, 2, 1, 0, 2, 0, 0, 0, 2, 0, 0, 0, 2, 0,\n       0, 0, 0, 0, 2, 2, 0, 0, 0, 0, 1, 0, 2, 2, 2, 2, 2, 0, 2, 0, 1, 0,\n       0, 1, 2, 2, 1, 0, 2, 2, 0, 2, 2, 0, 0, 1, 1, 0, 0, 0, 2, 0, 0, 2,\n       0, 2, 2, 2, 2, 0, 0, 0, 0, 0, 0, 2, 2, 2, 2, 1, 2, 0, 2, 2, 2, 0,\n       2, 2, 2, 0, 0, 0, 2, 2, 1, 2, 2, 0, 1, 2, 2, 0, 2, 0, 1, 2, 2, 2,\n       0, 1, 0, 2, 0, 0, 2, 1, 0, 2, 2, 0, 0, 0, 2, 2, 2, 2, 0, 0, 0, 0,\n       0, 0, 0, 2, 0, 2, 2, 0, 0, 0, 0, 0, 0, 2, 2, 2, 1, 2, 0, 0, 0, 0,\n       2, 2, 0, 0, 0, 2, 2, 0, 2, 0, 0, 0, 2, 0, 2, 2, 2, 0, 2, 2, 0, 0,\n       0, 0, 2, 2, 1, 0, 0, 0, 1, 0, 2, 0, 0, 0, 0, 2, 0, 2, 0, 1, 2, 0,\n       0, 0, 0, 0, 0, 0, 0, 2, 2, 0, 2, 2, 2, 2, 0, 0, 2, 0, 2, 0, 0, 2,\n       0, 0, 2, 2, 2, 2, 2, 2, 2, 0, 0, 0, 2, 1, 2, 0, 2, 2, 0, 2, 1, 0,\n       0, 0, 0, 0, 0, 0, 1, 1, 0, 2, 2, 0, 0, 1, 0, 0, 2, 0, 0, 0, 2, 2,\n       1, 2, 0, 0, 1, 0, 0, 1, 0, 0, 0, 2, 1, 0, 0, 0, 0, 0, 0, 2, 1, 2,\n       2, 1, 2, 2, 0, 2, 2, 1, 0, 2, 0, 2, 0, 2, 0, 0, 2, 0, 0, 2, 0, 0,\n       0, 2, 0, 1, 2, 0, 2, 0, 2, 0, 2, 2, 0, 1, 2, 0, 0, 2, 2, 1, 2, 2,\n       0, 0, 2, 2, 0, 2, 0, 2, 2, 0, 0, 0, 0, 1, 0, 1, 0, 1, 1, 2, 2, 1,\n       2, 0, 0, 2, 2, 0, 2, 2, 2, 0, 0, 0, 2, 0, 2, 1, 0, 0, 2, 0, 0, 0,\n       0, 2, 0, 0, 2, 2, 0, 0, 0, 2, 0, 1, 2, 2, 1, 0, 0, 2, 0, 0, 1, 0,\n       0, 2, 0, 0, 2, 2, 0, 0, 0, 1, 2, 1, 0, 1, 0, 2, 0, 0, 2, 0, 0, 0,\n       0, 0, 2, 0, 2, 2, 2, 1, 2, 0, 2, 0, 2, 0, 2, 0, 0, 0, 0, 0, 0, 1,\n       0, 0, 0, 2, 0, 0, 0, 0, 2, 2, 0, 0, 2, 0, 0, 0, 2, 0, 2, 0, 2, 0,\n       0, 0, 0, 0, 0, 0, 2, 2, 2, 2, 1, 1, 1, 1, 2, 0, 0, 2, 2, 0, 0, 0,\n       0, 1, 2, 2, 2, 2, 0, 1, 0, 1, 1, 2, 1, 0, 0, 2, 0, 0, 0, 2, 0, 2,\n       2, 1, 1, 2, 0, 1, 0, 0, 0, 0, 2, 0, 0, 2, 0, 2, 0, 2, 0, 0, 2, 0,\n       0, 2, 2, 1, 0, 2, 2, 0, 0, 0, 2, 0, 0, 2, 2, 0, 2, 0, 0, 0, 0, 0,\n       1, 0, 0, 1, 1, 0, 2, 0, 2, 2, 2, 0, 0, 0, 0, 2, 0, 2, 0, 0, 0, 0,\n       0, 0, 0, 2, 2, 0, 0, 0, 2, 2, 2, 2, 0, 0, 0, 0, 2, 0, 1, 0, 1, 0,\n       0, 0, 0, 0, 0, 2, 2, 0, 2, 0, 0, 0, 2, 2, 2, 2, 0, 0, 0, 2, 0, 0,\n       2, 2, 0, 0, 2, 0, 0, 1, 0, 0, 0, 1, 1, 0, 1, 2, 0, 2, 2, 2, 2, 0,\n       0, 0, 2, 0, 1, 1, 1, 0, 0, 2, 0, 1, 0, 0, 2, 2, 0, 0, 0, 2, 2, 0,\n       0, 1, 0, 0, 0, 2, 0, 1, 0])"
     },
     "execution_count": 68,
     "metadata": {},
     "output_type": "execute_result"
    }
   ],
   "source": [
    "label"
   ],
   "metadata": {
    "collapsed": false
   }
  },
  {
   "cell_type": "markdown",
   "source": [
    "# preprocessing.OrdinalEncoder:特征专用，能够将分类特征转换为分类数值"
   ],
   "metadata": {
    "collapsed": false
   }
  },
  {
   "cell_type": "code",
   "execution_count": 70,
   "outputs": [
    {
     "data": {
      "text/plain": "[array(['female', 'male'], dtype=object), array(['C', 'Q', 'S'], dtype=object)]"
     },
     "execution_count": 70,
     "metadata": {},
     "output_type": "execute_result"
    }
   ],
   "source": [
    "from sklearn.preprocessing import OrdinalEncoder\n",
    "data_ = data.copy()\n",
    "data_.head()\n",
    "OrdinalEncoder().fit(data_.iloc[:,1:-1]).categories_"
   ],
   "metadata": {
    "collapsed": false
   }
  },
  {
   "cell_type": "code",
   "execution_count": 71,
   "outputs": [
    {
     "data": {
      "text/plain": "    Age     Sex Embarked Survived\n0  22.0    male        S       No\n1  38.0  female        C      Yes\n2  26.0  female        S      Yes\n3  35.0  female        S      Yes\n4  35.0    male        S       No",
      "text/html": "<div>\n<style scoped>\n    .dataframe tbody tr th:only-of-type {\n        vertical-align: middle;\n    }\n\n    .dataframe tbody tr th {\n        vertical-align: top;\n    }\n\n    .dataframe thead th {\n        text-align: right;\n    }\n</style>\n<table border=\"1\" class=\"dataframe\">\n  <thead>\n    <tr style=\"text-align: right;\">\n      <th></th>\n      <th>Age</th>\n      <th>Sex</th>\n      <th>Embarked</th>\n      <th>Survived</th>\n    </tr>\n  </thead>\n  <tbody>\n    <tr>\n      <th>0</th>\n      <td>22.0</td>\n      <td>male</td>\n      <td>S</td>\n      <td>No</td>\n    </tr>\n    <tr>\n      <th>1</th>\n      <td>38.0</td>\n      <td>female</td>\n      <td>C</td>\n      <td>Yes</td>\n    </tr>\n    <tr>\n      <th>2</th>\n      <td>26.0</td>\n      <td>female</td>\n      <td>S</td>\n      <td>Yes</td>\n    </tr>\n    <tr>\n      <th>3</th>\n      <td>35.0</td>\n      <td>female</td>\n      <td>S</td>\n      <td>Yes</td>\n    </tr>\n    <tr>\n      <th>4</th>\n      <td>35.0</td>\n      <td>male</td>\n      <td>S</td>\n      <td>No</td>\n    </tr>\n  </tbody>\n</table>\n</div>"
     },
     "execution_count": 71,
     "metadata": {},
     "output_type": "execute_result"
    }
   ],
   "source": [
    "data.iloc[:,1:-1] = OrdinalEncoder().fit_transform(data_.iloc[:,1:-1])\n",
    "\n",
    "data_.head()"
   ],
   "metadata": {
    "collapsed": false
   }
  },
  {
   "cell_type": "markdown",
   "source": [
    "# preprocessing.OneHotEncoder :独热编码，创建哑变量"
   ],
   "metadata": {
    "collapsed": false
   }
  },
  {
   "cell_type": "code",
   "execution_count": 78,
   "outputs": [
    {
     "data": {
      "text/plain": "    Age  Sex Embarked Survived\n0  22.0  1.0      2.0       No\n1  38.0  0.0      0.0      Yes\n2  26.0  0.0      2.0      Yes\n3  35.0  0.0      2.0      Yes\n4  35.0  1.0      2.0       No",
      "text/html": "<div>\n<style scoped>\n    .dataframe tbody tr th:only-of-type {\n        vertical-align: middle;\n    }\n\n    .dataframe tbody tr th {\n        vertical-align: top;\n    }\n\n    .dataframe thead th {\n        text-align: right;\n    }\n</style>\n<table border=\"1\" class=\"dataframe\">\n  <thead>\n    <tr style=\"text-align: right;\">\n      <th></th>\n      <th>Age</th>\n      <th>Sex</th>\n      <th>Embarked</th>\n      <th>Survived</th>\n    </tr>\n  </thead>\n  <tbody>\n    <tr>\n      <th>0</th>\n      <td>22.0</td>\n      <td>1.0</td>\n      <td>2.0</td>\n      <td>No</td>\n    </tr>\n    <tr>\n      <th>1</th>\n      <td>38.0</td>\n      <td>0.0</td>\n      <td>0.0</td>\n      <td>Yes</td>\n    </tr>\n    <tr>\n      <th>2</th>\n      <td>26.0</td>\n      <td>0.0</td>\n      <td>2.0</td>\n      <td>Yes</td>\n    </tr>\n    <tr>\n      <th>3</th>\n      <td>35.0</td>\n      <td>0.0</td>\n      <td>2.0</td>\n      <td>Yes</td>\n    </tr>\n    <tr>\n      <th>4</th>\n      <td>35.0</td>\n      <td>1.0</td>\n      <td>2.0</td>\n      <td>No</td>\n    </tr>\n  </tbody>\n</table>\n</div>"
     },
     "execution_count": 78,
     "metadata": {},
     "output_type": "execute_result"
    }
   ],
   "source": [
    "data.head()"
   ],
   "metadata": {
    "collapsed": false
   }
  },
  {
   "cell_type": "code",
   "execution_count": 79,
   "outputs": [],
   "source": [
    "from sklearn.preprocessing import OneHotEncoder\n",
    "x = data.iloc[:,1:-1]\n",
    "enc = OneHotEncoder(categories='auto').fit(x)"
   ],
   "metadata": {
    "collapsed": false
   }
  },
  {
   "cell_type": "code",
   "execution_count": 83,
   "outputs": [],
   "source": [
    "result = enc.transform(x).toarray()"
   ],
   "metadata": {
    "collapsed": false
   }
  },
  {
   "cell_type": "code",
   "execution_count": 84,
   "outputs": [
    {
     "data": {
      "text/plain": "array([[0., 1., 0., 0., 1.],\n       [1., 0., 1., 0., 0.],\n       [1., 0., 0., 0., 1.],\n       ...,\n       [1., 0., 0., 0., 1.],\n       [0., 1., 1., 0., 0.],\n       [0., 1., 0., 1., 0.]])"
     },
     "execution_count": 84,
     "metadata": {},
     "output_type": "execute_result"
    }
   ],
   "source": [
    "result"
   ],
   "metadata": {
    "collapsed": false
   }
  },
  {
   "cell_type": "code",
   "execution_count": 86,
   "outputs": [
    {
     "data": {
      "text/plain": "Embarked\n2.0    644\n0.0    168\n1.0     77\nName: count, dtype: int64"
     },
     "execution_count": 86,
     "metadata": {},
     "output_type": "execute_result"
    }
   ],
   "source": [
    "data['Embarked'].value_counts()"
   ],
   "metadata": {
    "collapsed": false
   }
  },
  {
   "cell_type": "code",
   "execution_count": 87,
   "outputs": [
    {
     "data": {
      "text/plain": "       0    1\n0    1.0  2.0\n1    0.0  0.0\n2    0.0  2.0\n3    0.0  2.0\n4    1.0  2.0\n..   ...  ...\n884  1.0  2.0\n885  0.0  2.0\n886  0.0  2.0\n887  1.0  0.0\n888  1.0  1.0\n\n[889 rows x 2 columns]",
      "text/html": "<div>\n<style scoped>\n    .dataframe tbody tr th:only-of-type {\n        vertical-align: middle;\n    }\n\n    .dataframe tbody tr th {\n        vertical-align: top;\n    }\n\n    .dataframe thead th {\n        text-align: right;\n    }\n</style>\n<table border=\"1\" class=\"dataframe\">\n  <thead>\n    <tr style=\"text-align: right;\">\n      <th></th>\n      <th>0</th>\n      <th>1</th>\n    </tr>\n  </thead>\n  <tbody>\n    <tr>\n      <th>0</th>\n      <td>1.0</td>\n      <td>2.0</td>\n    </tr>\n    <tr>\n      <th>1</th>\n      <td>0.0</td>\n      <td>0.0</td>\n    </tr>\n    <tr>\n      <th>2</th>\n      <td>0.0</td>\n      <td>2.0</td>\n    </tr>\n    <tr>\n      <th>3</th>\n      <td>0.0</td>\n      <td>2.0</td>\n    </tr>\n    <tr>\n      <th>4</th>\n      <td>1.0</td>\n      <td>2.0</td>\n    </tr>\n    <tr>\n      <th>...</th>\n      <td>...</td>\n      <td>...</td>\n    </tr>\n    <tr>\n      <th>884</th>\n      <td>1.0</td>\n      <td>2.0</td>\n    </tr>\n    <tr>\n      <th>885</th>\n      <td>0.0</td>\n      <td>2.0</td>\n    </tr>\n    <tr>\n      <th>886</th>\n      <td>0.0</td>\n      <td>2.0</td>\n    </tr>\n    <tr>\n      <th>887</th>\n      <td>1.0</td>\n      <td>0.0</td>\n    </tr>\n    <tr>\n      <th>888</th>\n      <td>1.0</td>\n      <td>1.0</td>\n    </tr>\n  </tbody>\n</table>\n<p>889 rows × 2 columns</p>\n</div>"
     },
     "execution_count": 87,
     "metadata": {},
     "output_type": "execute_result"
    }
   ],
   "source": [
    "#还原数据\n",
    "pd.DataFrame(enc.inverse_transform(result))"
   ],
   "metadata": {
    "collapsed": false
   }
  },
  {
   "cell_type": "code",
   "execution_count": 90,
   "outputs": [
    {
     "data": {
      "text/plain": "array(['Sex_0.0', 'Sex_1.0', 'Embarked_0.0', 'Embarked_1.0',\n       'Embarked_2.0'], dtype=object)"
     },
     "execution_count": 90,
     "metadata": {},
     "output_type": "execute_result"
    }
   ],
   "source": [
    "enc.get_feature_names_out()"
   ],
   "metadata": {
    "collapsed": false
   }
  },
  {
   "cell_type": "code",
   "execution_count": 91,
   "outputs": [
    {
     "data": {
      "text/plain": "(889, 5)"
     },
     "execution_count": 91,
     "metadata": {},
     "output_type": "execute_result"
    }
   ],
   "source": [
    "result.shape"
   ],
   "metadata": {
    "collapsed": false
   }
  },
  {
   "cell_type": "code",
   "execution_count": 92,
   "outputs": [],
   "source": [
    "# axis=1，从左到右的变化，axis=0,表示从上到下的变化\n",
    "newdata = pd.concat([data,pd.DataFrame(result)],axis=1)"
   ],
   "metadata": {
    "collapsed": false
   }
  },
  {
   "cell_type": "code",
   "execution_count": 93,
   "outputs": [
    {
     "data": {
      "text/plain": "    Age  Sex Embarked Survived    0    1    2    3    4\n0  22.0  1.0      2.0       No  0.0  1.0  0.0  0.0  1.0\n1  38.0  0.0      0.0      Yes  1.0  0.0  1.0  0.0  0.0\n2  26.0  0.0      2.0      Yes  1.0  0.0  0.0  0.0  1.0\n3  35.0  0.0      2.0      Yes  1.0  0.0  0.0  0.0  1.0\n4  35.0  1.0      2.0       No  0.0  1.0  0.0  0.0  1.0",
      "text/html": "<div>\n<style scoped>\n    .dataframe tbody tr th:only-of-type {\n        vertical-align: middle;\n    }\n\n    .dataframe tbody tr th {\n        vertical-align: top;\n    }\n\n    .dataframe thead th {\n        text-align: right;\n    }\n</style>\n<table border=\"1\" class=\"dataframe\">\n  <thead>\n    <tr style=\"text-align: right;\">\n      <th></th>\n      <th>Age</th>\n      <th>Sex</th>\n      <th>Embarked</th>\n      <th>Survived</th>\n      <th>0</th>\n      <th>1</th>\n      <th>2</th>\n      <th>3</th>\n      <th>4</th>\n    </tr>\n  </thead>\n  <tbody>\n    <tr>\n      <th>0</th>\n      <td>22.0</td>\n      <td>1.0</td>\n      <td>2.0</td>\n      <td>No</td>\n      <td>0.0</td>\n      <td>1.0</td>\n      <td>0.0</td>\n      <td>0.0</td>\n      <td>1.0</td>\n    </tr>\n    <tr>\n      <th>1</th>\n      <td>38.0</td>\n      <td>0.0</td>\n      <td>0.0</td>\n      <td>Yes</td>\n      <td>1.0</td>\n      <td>0.0</td>\n      <td>1.0</td>\n      <td>0.0</td>\n      <td>0.0</td>\n    </tr>\n    <tr>\n      <th>2</th>\n      <td>26.0</td>\n      <td>0.0</td>\n      <td>2.0</td>\n      <td>Yes</td>\n      <td>1.0</td>\n      <td>0.0</td>\n      <td>0.0</td>\n      <td>0.0</td>\n      <td>1.0</td>\n    </tr>\n    <tr>\n      <th>3</th>\n      <td>35.0</td>\n      <td>0.0</td>\n      <td>2.0</td>\n      <td>Yes</td>\n      <td>1.0</td>\n      <td>0.0</td>\n      <td>0.0</td>\n      <td>0.0</td>\n      <td>1.0</td>\n    </tr>\n    <tr>\n      <th>4</th>\n      <td>35.0</td>\n      <td>1.0</td>\n      <td>2.0</td>\n      <td>No</td>\n      <td>0.0</td>\n      <td>1.0</td>\n      <td>0.0</td>\n      <td>0.0</td>\n      <td>1.0</td>\n    </tr>\n  </tbody>\n</table>\n</div>"
     },
     "execution_count": 93,
     "metadata": {},
     "output_type": "execute_result"
    }
   ],
   "source": [
    "newdata.head()"
   ],
   "metadata": {
    "collapsed": false
   }
  },
  {
   "cell_type": "code",
   "execution_count": 95,
   "outputs": [],
   "source": [
    "newdata.drop(labels=['Embarked','Sex'],inplace=True,axis=1)"
   ],
   "metadata": {
    "collapsed": false
   }
  },
  {
   "cell_type": "code",
   "execution_count": 96,
   "outputs": [
    {
     "data": {
      "text/plain": "      Age Survived    0    1    2    3    4\n0    22.0       No  0.0  1.0  0.0  0.0  1.0\n1    38.0      Yes  1.0  0.0  1.0  0.0  0.0\n2    26.0      Yes  1.0  0.0  0.0  0.0  1.0\n3    35.0      Yes  1.0  0.0  0.0  0.0  1.0\n4    35.0       No  0.0  1.0  0.0  0.0  1.0\n..    ...      ...  ...  ...  ...  ...  ...\n888  28.0       No  0.0  1.0  0.0  1.0  0.0\n889  26.0  Unknown  NaN  NaN  NaN  NaN  NaN\n890  32.0       No  NaN  NaN  NaN  NaN  NaN\n61    NaN      NaN  0.0  1.0  0.0  0.0  1.0\n829   NaN      NaN  0.0  1.0  0.0  0.0  1.0\n\n[891 rows x 7 columns]",
      "text/html": "<div>\n<style scoped>\n    .dataframe tbody tr th:only-of-type {\n        vertical-align: middle;\n    }\n\n    .dataframe tbody tr th {\n        vertical-align: top;\n    }\n\n    .dataframe thead th {\n        text-align: right;\n    }\n</style>\n<table border=\"1\" class=\"dataframe\">\n  <thead>\n    <tr style=\"text-align: right;\">\n      <th></th>\n      <th>Age</th>\n      <th>Survived</th>\n      <th>0</th>\n      <th>1</th>\n      <th>2</th>\n      <th>3</th>\n      <th>4</th>\n    </tr>\n  </thead>\n  <tbody>\n    <tr>\n      <th>0</th>\n      <td>22.0</td>\n      <td>No</td>\n      <td>0.0</td>\n      <td>1.0</td>\n      <td>0.0</td>\n      <td>0.0</td>\n      <td>1.0</td>\n    </tr>\n    <tr>\n      <th>1</th>\n      <td>38.0</td>\n      <td>Yes</td>\n      <td>1.0</td>\n      <td>0.0</td>\n      <td>1.0</td>\n      <td>0.0</td>\n      <td>0.0</td>\n    </tr>\n    <tr>\n      <th>2</th>\n      <td>26.0</td>\n      <td>Yes</td>\n      <td>1.0</td>\n      <td>0.0</td>\n      <td>0.0</td>\n      <td>0.0</td>\n      <td>1.0</td>\n    </tr>\n    <tr>\n      <th>3</th>\n      <td>35.0</td>\n      <td>Yes</td>\n      <td>1.0</td>\n      <td>0.0</td>\n      <td>0.0</td>\n      <td>0.0</td>\n      <td>1.0</td>\n    </tr>\n    <tr>\n      <th>4</th>\n      <td>35.0</td>\n      <td>No</td>\n      <td>0.0</td>\n      <td>1.0</td>\n      <td>0.0</td>\n      <td>0.0</td>\n      <td>1.0</td>\n    </tr>\n    <tr>\n      <th>...</th>\n      <td>...</td>\n      <td>...</td>\n      <td>...</td>\n      <td>...</td>\n      <td>...</td>\n      <td>...</td>\n      <td>...</td>\n    </tr>\n    <tr>\n      <th>888</th>\n      <td>28.0</td>\n      <td>No</td>\n      <td>0.0</td>\n      <td>1.0</td>\n      <td>0.0</td>\n      <td>1.0</td>\n      <td>0.0</td>\n    </tr>\n    <tr>\n      <th>889</th>\n      <td>26.0</td>\n      <td>Unknown</td>\n      <td>NaN</td>\n      <td>NaN</td>\n      <td>NaN</td>\n      <td>NaN</td>\n      <td>NaN</td>\n    </tr>\n    <tr>\n      <th>890</th>\n      <td>32.0</td>\n      <td>No</td>\n      <td>NaN</td>\n      <td>NaN</td>\n      <td>NaN</td>\n      <td>NaN</td>\n      <td>NaN</td>\n    </tr>\n    <tr>\n      <th>61</th>\n      <td>NaN</td>\n      <td>NaN</td>\n      <td>0.0</td>\n      <td>1.0</td>\n      <td>0.0</td>\n      <td>0.0</td>\n      <td>1.0</td>\n    </tr>\n    <tr>\n      <th>829</th>\n      <td>NaN</td>\n      <td>NaN</td>\n      <td>0.0</td>\n      <td>1.0</td>\n      <td>0.0</td>\n      <td>0.0</td>\n      <td>1.0</td>\n    </tr>\n  </tbody>\n</table>\n<p>891 rows × 7 columns</p>\n</div>"
     },
     "execution_count": 96,
     "metadata": {},
     "output_type": "execute_result"
    }
   ],
   "source": [
    "newdata"
   ],
   "metadata": {
    "collapsed": false
   }
  },
  {
   "cell_type": "code",
   "execution_count": 97,
   "outputs": [],
   "source": [
    "newdata.columns =['Age','Survived','Female','Male','Embarked_C','Embarked_Q','Embarked_S']"
   ],
   "metadata": {
    "collapsed": false
   }
  },
  {
   "cell_type": "code",
   "execution_count": 98,
   "outputs": [
    {
     "data": {
      "text/plain": "    Age Survived  Female  Male  Embarked_C  Embarked_Q  Embarked_S\n0  22.0       No     0.0   1.0         0.0         0.0         1.0\n1  38.0      Yes     1.0   0.0         1.0         0.0         0.0\n2  26.0      Yes     1.0   0.0         0.0         0.0         1.0\n3  35.0      Yes     1.0   0.0         0.0         0.0         1.0\n4  35.0       No     0.0   1.0         0.0         0.0         1.0",
      "text/html": "<div>\n<style scoped>\n    .dataframe tbody tr th:only-of-type {\n        vertical-align: middle;\n    }\n\n    .dataframe tbody tr th {\n        vertical-align: top;\n    }\n\n    .dataframe thead th {\n        text-align: right;\n    }\n</style>\n<table border=\"1\" class=\"dataframe\">\n  <thead>\n    <tr style=\"text-align: right;\">\n      <th></th>\n      <th>Age</th>\n      <th>Survived</th>\n      <th>Female</th>\n      <th>Male</th>\n      <th>Embarked_C</th>\n      <th>Embarked_Q</th>\n      <th>Embarked_S</th>\n    </tr>\n  </thead>\n  <tbody>\n    <tr>\n      <th>0</th>\n      <td>22.0</td>\n      <td>No</td>\n      <td>0.0</td>\n      <td>1.0</td>\n      <td>0.0</td>\n      <td>0.0</td>\n      <td>1.0</td>\n    </tr>\n    <tr>\n      <th>1</th>\n      <td>38.0</td>\n      <td>Yes</td>\n      <td>1.0</td>\n      <td>0.0</td>\n      <td>1.0</td>\n      <td>0.0</td>\n      <td>0.0</td>\n    </tr>\n    <tr>\n      <th>2</th>\n      <td>26.0</td>\n      <td>Yes</td>\n      <td>1.0</td>\n      <td>0.0</td>\n      <td>0.0</td>\n      <td>0.0</td>\n      <td>1.0</td>\n    </tr>\n    <tr>\n      <th>3</th>\n      <td>35.0</td>\n      <td>Yes</td>\n      <td>1.0</td>\n      <td>0.0</td>\n      <td>0.0</td>\n      <td>0.0</td>\n      <td>1.0</td>\n    </tr>\n    <tr>\n      <th>4</th>\n      <td>35.0</td>\n      <td>No</td>\n      <td>0.0</td>\n      <td>1.0</td>\n      <td>0.0</td>\n      <td>0.0</td>\n      <td>1.0</td>\n    </tr>\n  </tbody>\n</table>\n</div>"
     },
     "execution_count": 98,
     "metadata": {},
     "output_type": "execute_result"
    }
   ],
   "source": [
    "newdata.head()"
   ],
   "metadata": {
    "collapsed": false
   }
  },
  {
   "cell_type": "markdown",
   "source": [
    "# 2.4处理连续型特征：二值化与分段"
   ],
   "metadata": {
    "collapsed": false
   }
  },
  {
   "cell_type": "markdown",
   "source": [
    "# sklearn.preprocessing.Binarizer"
   ],
   "metadata": {
    "collapsed": false
   }
  },
  {
   "cell_type": "code",
   "execution_count": 101,
   "outputs": [
    {
     "data": {
      "text/plain": "    Age  Sex Embarked Survived\n0  22.0  1.0      2.0       No\n1  38.0  0.0      0.0      Yes\n2  26.0  0.0      2.0      Yes\n3  35.0  0.0      2.0      Yes\n4  35.0  1.0      2.0       No",
      "text/html": "<div>\n<style scoped>\n    .dataframe tbody tr th:only-of-type {\n        vertical-align: middle;\n    }\n\n    .dataframe tbody tr th {\n        vertical-align: top;\n    }\n\n    .dataframe thead th {\n        text-align: right;\n    }\n</style>\n<table border=\"1\" class=\"dataframe\">\n  <thead>\n    <tr style=\"text-align: right;\">\n      <th></th>\n      <th>Age</th>\n      <th>Sex</th>\n      <th>Embarked</th>\n      <th>Survived</th>\n    </tr>\n  </thead>\n  <tbody>\n    <tr>\n      <th>0</th>\n      <td>22.0</td>\n      <td>1.0</td>\n      <td>2.0</td>\n      <td>No</td>\n    </tr>\n    <tr>\n      <th>1</th>\n      <td>38.0</td>\n      <td>0.0</td>\n      <td>0.0</td>\n      <td>Yes</td>\n    </tr>\n    <tr>\n      <th>2</th>\n      <td>26.0</td>\n      <td>0.0</td>\n      <td>2.0</td>\n      <td>Yes</td>\n    </tr>\n    <tr>\n      <th>3</th>\n      <td>35.0</td>\n      <td>0.0</td>\n      <td>2.0</td>\n      <td>Yes</td>\n    </tr>\n    <tr>\n      <th>4</th>\n      <td>35.0</td>\n      <td>1.0</td>\n      <td>2.0</td>\n      <td>No</td>\n    </tr>\n  </tbody>\n</table>\n</div>"
     },
     "execution_count": 101,
     "metadata": {},
     "output_type": "execute_result"
    }
   ],
   "source": [
    "# 将年龄二值化\n",
    "data_2 = data.copy()\n",
    "\n",
    "from sklearn.preprocessing import Binarizer\n",
    "data_2.head()"
   ],
   "metadata": {
    "collapsed": false
   }
  },
  {
   "cell_type": "code",
   "execution_count": 104,
   "outputs": [],
   "source": [
    "x = data_2.iloc[:,0].values.reshape(-1,1)#处理特征的类不能是一维数组"
   ],
   "metadata": {
    "collapsed": false
   }
  },
  {
   "cell_type": "code",
   "execution_count": 106,
   "outputs": [],
   "source": [
    "transformer = Binarizer(threshold=30).fit_transform(x)"
   ],
   "metadata": {
    "collapsed": false
   }
  },
  {
   "cell_type": "code",
   "execution_count": 107,
   "outputs": [
    {
     "data": {
      "text/plain": "array([[0.],\n       [1.],\n       [0.],\n       [1.],\n       [1.],\n       [0.],\n       [1.],\n       [0.],\n       [0.],\n       [0.],\n       [0.],\n       [1.],\n       [0.],\n       [1.],\n       [0.],\n       [1.],\n       [0.],\n       [0.],\n       [1.],\n       [0.],\n       [1.],\n       [1.],\n       [0.],\n       [0.],\n       [0.],\n       [1.],\n       [0.],\n       [0.],\n       [0.],\n       [0.],\n       [1.],\n       [0.],\n       [0.],\n       [1.],\n       [0.],\n       [1.],\n       [0.],\n       [0.],\n       [0.],\n       [0.],\n       [1.],\n       [0.],\n       [0.],\n       [0.],\n       [0.],\n       [0.],\n       [0.],\n       [0.],\n       [0.],\n       [0.],\n       [0.],\n       [0.],\n       [1.],\n       [0.],\n       [1.],\n       [0.],\n       [0.],\n       [0.],\n       [0.],\n       [0.],\n       [0.],\n       [1.],\n       [0.],\n       [0.],\n       [0.],\n       [0.],\n       [0.],\n       [0.],\n       [0.],\n       [1.],\n       [0.],\n       [0.],\n       [0.],\n       [1.],\n       [0.],\n       [0.],\n       [0.],\n       [0.],\n       [0.],\n       [0.],\n       [0.],\n       [0.],\n       [0.],\n       [0.],\n       [1.],\n       [0.],\n       [0.],\n       [0.],\n       [0.],\n       [0.],\n       [0.],\n       [1.],\n       [0.],\n       [1.],\n       [0.],\n       [1.],\n       [0.],\n       [1.],\n       [1.],\n       [0.],\n       [0.],\n       [0.],\n       [1.],\n       [1.],\n       [0.],\n       [0.],\n       [0.],\n       [1.],\n       [0.],\n       [1.],\n       [0.],\n       [0.],\n       [0.],\n       [0.],\n       [0.],\n       [1.],\n       [0.],\n       [0.],\n       [0.],\n       [0.],\n       [0.],\n       [1.],\n       [1.],\n       [1.],\n       [0.],\n       [0.],\n       [0.],\n       [0.],\n       [1.],\n       [1.],\n       [0.],\n       [1.],\n       [0.],\n       [0.],\n       [0.],\n       [0.],\n       [1.],\n       [0.],\n       [0.],\n       [0.],\n       [0.],\n       [0.],\n       [0.],\n       [0.],\n       [0.],\n       [0.],\n       [0.],\n       [1.],\n       [1.],\n       [1.],\n       [0.],\n       [1.],\n       [1.],\n       [0.],\n       [1.],\n       [0.],\n       [0.],\n       [0.],\n       [0.],\n       [1.],\n       [1.],\n       [0.],\n       [0.],\n       [0.],\n       [0.],\n       [0.],\n       [1.],\n       [0.],\n       [0.],\n       [1.],\n       [0.],\n       [0.],\n       [0.],\n       [1.],\n       [0.],\n       [0.],\n       [1.],\n       [0.],\n       [1.],\n       [0.],\n       [0.],\n       [0.],\n       [0.],\n       [0.],\n       [0.],\n       [0.],\n       [1.],\n       [1.],\n       [1.],\n       [1.],\n       [0.],\n       [0.],\n       [0.],\n       [1.],\n       [1.],\n       [0.],\n       [1.],\n       [0.],\n       [0.],\n       [0.],\n       [0.],\n       [1.],\n       [1.],\n       [0.],\n       [0.],\n       [1.],\n       [0.],\n       [0.],\n       [1.],\n       [0.],\n       [1.],\n       [0.],\n       [0.],\n       [0.],\n       [1.],\n       [0.],\n       [1.],\n       [1.],\n       [0.],\n       [0.],\n       [0.],\n       [1.],\n       [0.],\n       [1.],\n       [0.],\n       [0.],\n       [0.],\n       [0.],\n       [0.],\n       [1.],\n       [0.],\n       [1.],\n       [0.],\n       [0.],\n       [0.],\n       [1.],\n       [0.],\n       [0.],\n       [1.],\n       [0.],\n       [0.],\n       [0.],\n       [0.],\n       [0.],\n       [1.],\n       [0.],\n       [0.],\n       [1.],\n       [1.],\n       [0.],\n       [0.],\n       [1.],\n       [0.],\n       [1.],\n       [0.],\n       [0.],\n       [0.],\n       [1.],\n       [1.],\n       [0.],\n       [0.],\n       [1.],\n       [1.],\n       [0.],\n       [1.],\n       [0.],\n       [0.],\n       [1.],\n       [1.],\n       [0.],\n       [0.],\n       [1.],\n       [1.],\n       [0.],\n       [1.],\n       [1.],\n       [0.],\n       [0.],\n       [1.],\n       [1.],\n       [0.],\n       [0.],\n       [0.],\n       [0.],\n       [1.],\n       [0.],\n       [0.],\n       [1.],\n       [0.],\n       [0.],\n       [0.],\n       [1.],\n       [0.],\n       [0.],\n       [0.],\n       [0.],\n       [0.],\n       [0.],\n       [1.],\n       [0.],\n       [0.],\n       [0.],\n       [0.],\n       [0.],\n       [0.],\n       [0.],\n       [0.],\n       [0.],\n       [0.],\n       [0.],\n       [0.],\n       [0.],\n       [0.],\n       [1.],\n       [0.],\n       [0.],\n       [1.],\n       [1.],\n       [1.],\n       [0.],\n       [0.],\n       [0.],\n       [0.],\n       [0.],\n       [1.],\n       [1.],\n       [1.],\n       [1.],\n       [0.],\n       [0.],\n       [1.],\n       [1.],\n       [0.],\n       [0.],\n       [0.],\n       [0.],\n       [1.],\n       [1.],\n       [1.],\n       [0.],\n       [0.],\n       [0.],\n       [0.],\n       [1.],\n       [0.],\n       [1.],\n       [0.],\n       [0.],\n       [1.],\n       [0.],\n       [0.],\n       [0.],\n       [0.],\n       [0.],\n       [0.],\n       [0.],\n       [1.],\n       [0.],\n       [0.],\n       [1.],\n       [0.],\n       [1.],\n       [1.],\n       [0.],\n       [0.],\n       [1.],\n       [0.],\n       [0.],\n       [0.],\n       [0.],\n       [0.],\n       [0.],\n       [0.],\n       [0.],\n       [0.],\n       [0.],\n       [0.],\n       [0.],\n       [0.],\n       [1.],\n       [0.],\n       [1.],\n       [1.],\n       [0.],\n       [0.],\n       [0.],\n       [1.],\n       [0.],\n       [0.],\n       [1.],\n       [0.],\n       [0.],\n       [0.],\n       [0.],\n       [0.],\n       [1.],\n       [1.],\n       [0.],\n       [0.],\n       [1.],\n       [0.],\n       [0.],\n       [0.],\n       [0.],\n       [1.],\n       [1.],\n       [0.],\n       [0.],\n       [0.],\n       [0.],\n       [0.],\n       [1.],\n       [0.],\n       [1.],\n       [0.],\n       [1.],\n       [0.],\n       [0.],\n       [0.],\n       [0.],\n       [0.],\n       [0.],\n       [0.],\n       [0.],\n       [0.],\n       [0.],\n       [0.],\n       [0.],\n       [1.],\n       [0.],\n       [0.],\n       [1.],\n       [0.],\n       [1.],\n       [0.],\n       [0.],\n       [0.],\n       [1.],\n       [1.],\n       [1.],\n       [0.],\n       [0.],\n       [0.],\n       [0.],\n       [0.],\n       [0.],\n       [1.],\n       [0.],\n       [1.],\n       [1.],\n       [0.],\n       [0.],\n       [1.],\n       [0.],\n       [0.],\n       [1.],\n       [0.],\n       [1.],\n       [0.],\n       [1.],\n       [1.],\n       [1.],\n       [1.],\n       [0.],\n       [1.],\n       [0.],\n       [1.],\n       [0.],\n       [0.],\n       [0.],\n       [1.],\n       [1.],\n       [0.],\n       [0.],\n       [0.],\n       [1.],\n       [0.],\n       [0.],\n       [0.],\n       [0.],\n       [0.],\n       [1.],\n       [1.],\n       [0.],\n       [0.],\n       [1.],\n       [1.],\n       [0.],\n       [0.],\n       [0.],\n       [0.],\n       [1.],\n       [1.],\n       [0.],\n       [0.],\n       [1.],\n       [0.],\n       [0.],\n       [0.],\n       [0.],\n       [0.],\n       [0.],\n       [1.],\n       [0.],\n       [0.],\n       [1.],\n       [0.],\n       [0.],\n       [0.],\n       [0.],\n       [0.],\n       [1.],\n       [1.],\n       [0.],\n       [1.],\n       [1.],\n       [0.],\n       [1.],\n       [1.],\n       [0.],\n       [0.],\n       [0.],\n       [1.],\n       [0.],\n       [1.],\n       [1.],\n       [0.],\n       [1.],\n       [0.],\n       [0.],\n       [0.],\n       [0.],\n       [0.],\n       [0.],\n       [0.],\n       [1.],\n       [0.],\n       [0.],\n       [0.],\n       [1.],\n       [0.],\n       [0.],\n       [1.],\n       [1.],\n       [1.],\n       [0.],\n       [0.],\n       [1.],\n       [0.],\n       [0.],\n       [0.],\n       [0.],\n       [0.],\n       [0.],\n       [1.],\n       [1.],\n       [0.],\n       [1.],\n       [1.],\n       [0.],\n       [1.],\n       [0.],\n       [0.],\n       [0.],\n       [0.],\n       [0.],\n       [0.],\n       [0.],\n       [1.],\n       [1.],\n       [1.],\n       [1.],\n       [0.],\n       [0.],\n       [0.],\n       [1.],\n       [1.],\n       [0.],\n       [1.],\n       [0.],\n       [1.],\n       [1.],\n       [1.],\n       [0.],\n       [0.],\n       [1.],\n       [1.],\n       [0.],\n       [0.],\n       [1.],\n       [1.],\n       [1.],\n       [0.],\n       [1.],\n       [1.],\n       [0.],\n       [1.],\n       [0.],\n       [1.],\n       [0.],\n       [0.],\n       [0.],\n       [1.],\n       [1.],\n       [1.],\n       [0.],\n       [0.],\n       [0.],\n       [1.],\n       [1.],\n       [0.],\n       [0.],\n       [0.],\n       [1.],\n       [0.],\n       [1.],\n       [0.],\n       [0.],\n       [0.],\n       [0.],\n       [1.],\n       [0.],\n       [0.],\n       [0.],\n       [1.],\n       [1.],\n       [0.],\n       [0.],\n       [0.],\n       [1.],\n       [1.],\n       [1.],\n       [0.],\n       [0.],\n       [0.],\n       [1.],\n       [1.],\n       [1.],\n       [0.],\n       [0.],\n       [0.],\n       [0.],\n       [0.],\n       [0.],\n       [1.],\n       [0.],\n       [1.],\n       [0.],\n       [0.],\n       [0.],\n       [0.],\n       [0.],\n       [0.],\n       [0.],\n       [0.],\n       [0.],\n       [1.],\n       [0.],\n       [1.],\n       [1.],\n       [1.],\n       [1.],\n       [1.],\n       [0.],\n       [1.],\n       [0.],\n       [0.],\n       [1.],\n       [0.],\n       [1.],\n       [1.],\n       [1.],\n       [1.],\n       [0.],\n       [0.],\n       [0.],\n       [0.],\n       [1.],\n       [1.],\n       [0.],\n       [0.],\n       [0.],\n       [0.],\n       [1.],\n       [0.],\n       [0.],\n       [0.],\n       [0.],\n       [0.],\n       [1.],\n       [0.],\n       [0.],\n       [0.],\n       [1.],\n       [1.],\n       [1.],\n       [0.],\n       [1.],\n       [1.],\n       [0.],\n       [1.],\n       [0.],\n       [0.],\n       [0.],\n       [1.],\n       [1.],\n       [1.],\n       [0.],\n       [0.],\n       [0.],\n       [0.],\n       [1.],\n       [0.],\n       [1.],\n       [0.],\n       [1.],\n       [0.],\n       [0.],\n       [1.],\n       [0.],\n       [0.],\n       [1.],\n       [1.],\n       [0.],\n       [0.],\n       [0.],\n       [0.],\n       [0.],\n       [0.],\n       [0.],\n       [0.],\n       [0.],\n       [0.],\n       [0.],\n       [0.],\n       [1.],\n       [1.],\n       [0.],\n       [0.],\n       [0.],\n       [1.],\n       [0.],\n       [0.],\n       [1.],\n       [1.],\n       [0.],\n       [0.],\n       [0.],\n       [1.],\n       [0.],\n       [0.],\n       [1.],\n       [0.],\n       [1.],\n       [0.],\n       [0.],\n       [0.],\n       [1.],\n       [1.],\n       [0.],\n       [1.],\n       [0.],\n       [1.],\n       [0.],\n       [1.],\n       [0.],\n       [1.],\n       [0.],\n       [1.],\n       [0.],\n       [1.],\n       [1.],\n       [0.],\n       [1.],\n       [0.],\n       [0.],\n       [0.],\n       [0.],\n       [1.],\n       [0.],\n       [0.],\n       [0.],\n       [0.],\n       [0.],\n       [0.],\n       [0.],\n       [0.],\n       [0.],\n       [1.],\n       [0.],\n       [0.],\n       [0.],\n       [0.],\n       [0.],\n       [1.],\n       [1.],\n       [1.],\n       [0.],\n       [0.],\n       [1.],\n       [1.],\n       [0.],\n       [0.],\n       [0.],\n       [1.],\n       [1.],\n       [0.],\n       [1.],\n       [1.],\n       [0.],\n       [1.],\n       [1.],\n       [0.],\n       [1.],\n       [0.],\n       [0.],\n       [1.],\n       [1.],\n       [0.],\n       [1.],\n       [0.],\n       [1.],\n       [0.],\n       [0.],\n       [0.],\n       [0.],\n       [0.],\n       [0.],\n       [0.],\n       [0.],\n       [0.],\n       [0.],\n       [0.],\n       [1.],\n       [0.],\n       [0.],\n       [1.],\n       [0.],\n       [0.],\n       [0.],\n       [0.],\n       [1.],\n       [0.],\n       [1.],\n       [0.],\n       [1.],\n       [0.],\n       [0.],\n       [0.],\n       [1.],\n       [0.],\n       [0.],\n       [1.],\n       [0.],\n       [1.],\n       [1.],\n       [0.],\n       [0.],\n       [1.],\n       [0.],\n       [1.],\n       [0.],\n       [0.],\n       [1.],\n       [0.],\n       [1.],\n       [0.],\n       [0.],\n       [0.],\n       [1.],\n       [1.],\n       [1.],\n       [0.],\n       [0.],\n       [0.],\n       [0.],\n       [0.],\n       [1.],\n       [0.],\n       [1.],\n       [0.],\n       [0.],\n       [0.],\n       [1.],\n       [0.],\n       [0.],\n       [0.],\n       [0.],\n       [1.]])"
     },
     "execution_count": 107,
     "metadata": {},
     "output_type": "execute_result"
    }
   ],
   "source": [
    "transformer"
   ],
   "metadata": {
    "collapsed": false
   }
  },
  {
   "cell_type": "markdown",
   "source": [
    "# preprocessing.KBinsDiscretizer"
   ],
   "metadata": {
    "collapsed": false
   }
  },
  {
   "cell_type": "code",
   "execution_count": 113,
   "outputs": [],
   "source": [
    "from sklearn.preprocessing import KBinsDiscretizer\n",
    "\n",
    "x = data.iloc[:,0].values.reshape(-1,1)\n",
    "est = KBinsDiscretizer(n_bins=3,encode='ordinal',strategy='uniform')\n",
    "result1 = est.fit_transform(x)"
   ],
   "metadata": {
    "collapsed": false
   }
  },
  {
   "cell_type": "code",
   "execution_count": 117,
   "outputs": [
    {
     "data": {
      "text/plain": "{0.0, 1.0, 2.0}"
     },
     "execution_count": 117,
     "metadata": {},
     "output_type": "execute_result"
    }
   ],
   "source": [
    "set(result1.ravel())"
   ],
   "metadata": {
    "collapsed": false
   }
  },
  {
   "cell_type": "markdown",
   "source": [
    "# 3特征选择"
   ],
   "metadata": {
    "collapsed": false
   }
  },
  {
   "cell_type": "code",
   "execution_count": 128,
   "outputs": [],
   "source": [
    "import pandas as pd\n",
    "data = pd.read_csv('./digit recognizor.csv')"
   ],
   "metadata": {
    "collapsed": false
   }
  },
  {
   "cell_type": "code",
   "execution_count": 129,
   "outputs": [
    {
     "data": {
      "text/plain": "   label  pixel0  pixel1  pixel2  pixel3  pixel4  pixel5  pixel6  pixel7  \\\n0      1       0       0       0       0       0       0       0       0   \n1      0       0       0       0       0       0       0       0       0   \n2      1       0       0       0       0       0       0       0       0   \n3      4       0       0       0       0       0       0       0       0   \n4      0       0       0       0       0       0       0       0       0   \n\n   pixel8  ...  pixel774  pixel775  pixel776  pixel777  pixel778  pixel779  \\\n0       0  ...         0         0         0         0         0         0   \n1       0  ...         0         0         0         0         0         0   \n2       0  ...         0         0         0         0         0         0   \n3       0  ...         0         0         0         0         0         0   \n4       0  ...         0         0         0         0         0         0   \n\n   pixel780  pixel781  pixel782  pixel783  \n0         0         0         0         0  \n1         0         0         0         0  \n2         0         0         0         0  \n3         0         0         0         0  \n4         0         0         0         0  \n\n[5 rows x 785 columns]",
      "text/html": "<div>\n<style scoped>\n    .dataframe tbody tr th:only-of-type {\n        vertical-align: middle;\n    }\n\n    .dataframe tbody tr th {\n        vertical-align: top;\n    }\n\n    .dataframe thead th {\n        text-align: right;\n    }\n</style>\n<table border=\"1\" class=\"dataframe\">\n  <thead>\n    <tr style=\"text-align: right;\">\n      <th></th>\n      <th>label</th>\n      <th>pixel0</th>\n      <th>pixel1</th>\n      <th>pixel2</th>\n      <th>pixel3</th>\n      <th>pixel4</th>\n      <th>pixel5</th>\n      <th>pixel6</th>\n      <th>pixel7</th>\n      <th>pixel8</th>\n      <th>...</th>\n      <th>pixel774</th>\n      <th>pixel775</th>\n      <th>pixel776</th>\n      <th>pixel777</th>\n      <th>pixel778</th>\n      <th>pixel779</th>\n      <th>pixel780</th>\n      <th>pixel781</th>\n      <th>pixel782</th>\n      <th>pixel783</th>\n    </tr>\n  </thead>\n  <tbody>\n    <tr>\n      <th>0</th>\n      <td>1</td>\n      <td>0</td>\n      <td>0</td>\n      <td>0</td>\n      <td>0</td>\n      <td>0</td>\n      <td>0</td>\n      <td>0</td>\n      <td>0</td>\n      <td>0</td>\n      <td>...</td>\n      <td>0</td>\n      <td>0</td>\n      <td>0</td>\n      <td>0</td>\n      <td>0</td>\n      <td>0</td>\n      <td>0</td>\n      <td>0</td>\n      <td>0</td>\n      <td>0</td>\n    </tr>\n    <tr>\n      <th>1</th>\n      <td>0</td>\n      <td>0</td>\n      <td>0</td>\n      <td>0</td>\n      <td>0</td>\n      <td>0</td>\n      <td>0</td>\n      <td>0</td>\n      <td>0</td>\n      <td>0</td>\n      <td>...</td>\n      <td>0</td>\n      <td>0</td>\n      <td>0</td>\n      <td>0</td>\n      <td>0</td>\n      <td>0</td>\n      <td>0</td>\n      <td>0</td>\n      <td>0</td>\n      <td>0</td>\n    </tr>\n    <tr>\n      <th>2</th>\n      <td>1</td>\n      <td>0</td>\n      <td>0</td>\n      <td>0</td>\n      <td>0</td>\n      <td>0</td>\n      <td>0</td>\n      <td>0</td>\n      <td>0</td>\n      <td>0</td>\n      <td>...</td>\n      <td>0</td>\n      <td>0</td>\n      <td>0</td>\n      <td>0</td>\n      <td>0</td>\n      <td>0</td>\n      <td>0</td>\n      <td>0</td>\n      <td>0</td>\n      <td>0</td>\n    </tr>\n    <tr>\n      <th>3</th>\n      <td>4</td>\n      <td>0</td>\n      <td>0</td>\n      <td>0</td>\n      <td>0</td>\n      <td>0</td>\n      <td>0</td>\n      <td>0</td>\n      <td>0</td>\n      <td>0</td>\n      <td>...</td>\n      <td>0</td>\n      <td>0</td>\n      <td>0</td>\n      <td>0</td>\n      <td>0</td>\n      <td>0</td>\n      <td>0</td>\n      <td>0</td>\n      <td>0</td>\n      <td>0</td>\n    </tr>\n    <tr>\n      <th>4</th>\n      <td>0</td>\n      <td>0</td>\n      <td>0</td>\n      <td>0</td>\n      <td>0</td>\n      <td>0</td>\n      <td>0</td>\n      <td>0</td>\n      <td>0</td>\n      <td>0</td>\n      <td>...</td>\n      <td>0</td>\n      <td>0</td>\n      <td>0</td>\n      <td>0</td>\n      <td>0</td>\n      <td>0</td>\n      <td>0</td>\n      <td>0</td>\n      <td>0</td>\n      <td>0</td>\n    </tr>\n  </tbody>\n</table>\n<p>5 rows × 785 columns</p>\n</div>"
     },
     "execution_count": 129,
     "metadata": {},
     "output_type": "execute_result"
    }
   ],
   "source": [
    "data.head()"
   ],
   "metadata": {
    "collapsed": false
   }
  },
  {
   "cell_type": "code",
   "execution_count": 130,
   "outputs": [],
   "source": [
    "y = data.iloc[:,0]\n",
    "x = data.iloc[:,1:]"
   ],
   "metadata": {
    "collapsed": false
   }
  },
  {
   "cell_type": "code",
   "execution_count": 131,
   "outputs": [
    {
     "data": {
      "text/plain": "(42000, 784)"
     },
     "execution_count": 131,
     "metadata": {},
     "output_type": "execute_result"
    }
   ],
   "source": [
    "x.shape"
   ],
   "metadata": {
    "collapsed": false
   }
  },
  {
   "cell_type": "markdown",
   "source": [
    "# 3.1 Filter过滤法"
   ],
   "metadata": {
    "collapsed": false
   }
  },
  {
   "cell_type": "code",
   "execution_count": 133,
   "outputs": [],
   "source": [
    "x_desc = x.describe().T"
   ],
   "metadata": {
    "collapsed": false
   }
  },
  {
   "cell_type": "code",
   "execution_count": 134,
   "outputs": [
    {
     "data": {
      "text/plain": "            count      mean       std  min  25%  50%  75%   max\npixel0    42000.0  0.000000  0.000000  0.0  0.0  0.0  0.0   0.0\npixel1    42000.0  0.000000  0.000000  0.0  0.0  0.0  0.0   0.0\npixel2    42000.0  0.000000  0.000000  0.0  0.0  0.0  0.0   0.0\npixel3    42000.0  0.000000  0.000000  0.0  0.0  0.0  0.0   0.0\npixel4    42000.0  0.000000  0.000000  0.0  0.0  0.0  0.0   0.0\n...           ...       ...       ...  ...  ...  ...  ...   ...\npixel779  42000.0  0.002857  0.414264  0.0  0.0  0.0  0.0  62.0\npixel780  42000.0  0.000000  0.000000  0.0  0.0  0.0  0.0   0.0\npixel781  42000.0  0.000000  0.000000  0.0  0.0  0.0  0.0   0.0\npixel782  42000.0  0.000000  0.000000  0.0  0.0  0.0  0.0   0.0\npixel783  42000.0  0.000000  0.000000  0.0  0.0  0.0  0.0   0.0\n\n[784 rows x 8 columns]",
      "text/html": "<div>\n<style scoped>\n    .dataframe tbody tr th:only-of-type {\n        vertical-align: middle;\n    }\n\n    .dataframe tbody tr th {\n        vertical-align: top;\n    }\n\n    .dataframe thead th {\n        text-align: right;\n    }\n</style>\n<table border=\"1\" class=\"dataframe\">\n  <thead>\n    <tr style=\"text-align: right;\">\n      <th></th>\n      <th>count</th>\n      <th>mean</th>\n      <th>std</th>\n      <th>min</th>\n      <th>25%</th>\n      <th>50%</th>\n      <th>75%</th>\n      <th>max</th>\n    </tr>\n  </thead>\n  <tbody>\n    <tr>\n      <th>pixel0</th>\n      <td>42000.0</td>\n      <td>0.000000</td>\n      <td>0.000000</td>\n      <td>0.0</td>\n      <td>0.0</td>\n      <td>0.0</td>\n      <td>0.0</td>\n      <td>0.0</td>\n    </tr>\n    <tr>\n      <th>pixel1</th>\n      <td>42000.0</td>\n      <td>0.000000</td>\n      <td>0.000000</td>\n      <td>0.0</td>\n      <td>0.0</td>\n      <td>0.0</td>\n      <td>0.0</td>\n      <td>0.0</td>\n    </tr>\n    <tr>\n      <th>pixel2</th>\n      <td>42000.0</td>\n      <td>0.000000</td>\n      <td>0.000000</td>\n      <td>0.0</td>\n      <td>0.0</td>\n      <td>0.0</td>\n      <td>0.0</td>\n      <td>0.0</td>\n    </tr>\n    <tr>\n      <th>pixel3</th>\n      <td>42000.0</td>\n      <td>0.000000</td>\n      <td>0.000000</td>\n      <td>0.0</td>\n      <td>0.0</td>\n      <td>0.0</td>\n      <td>0.0</td>\n      <td>0.0</td>\n    </tr>\n    <tr>\n      <th>pixel4</th>\n      <td>42000.0</td>\n      <td>0.000000</td>\n      <td>0.000000</td>\n      <td>0.0</td>\n      <td>0.0</td>\n      <td>0.0</td>\n      <td>0.0</td>\n      <td>0.0</td>\n    </tr>\n    <tr>\n      <th>...</th>\n      <td>...</td>\n      <td>...</td>\n      <td>...</td>\n      <td>...</td>\n      <td>...</td>\n      <td>...</td>\n      <td>...</td>\n      <td>...</td>\n    </tr>\n    <tr>\n      <th>pixel779</th>\n      <td>42000.0</td>\n      <td>0.002857</td>\n      <td>0.414264</td>\n      <td>0.0</td>\n      <td>0.0</td>\n      <td>0.0</td>\n      <td>0.0</td>\n      <td>62.0</td>\n    </tr>\n    <tr>\n      <th>pixel780</th>\n      <td>42000.0</td>\n      <td>0.000000</td>\n      <td>0.000000</td>\n      <td>0.0</td>\n      <td>0.0</td>\n      <td>0.0</td>\n      <td>0.0</td>\n      <td>0.0</td>\n    </tr>\n    <tr>\n      <th>pixel781</th>\n      <td>42000.0</td>\n      <td>0.000000</td>\n      <td>0.000000</td>\n      <td>0.0</td>\n      <td>0.0</td>\n      <td>0.0</td>\n      <td>0.0</td>\n      <td>0.0</td>\n    </tr>\n    <tr>\n      <th>pixel782</th>\n      <td>42000.0</td>\n      <td>0.000000</td>\n      <td>0.000000</td>\n      <td>0.0</td>\n      <td>0.0</td>\n      <td>0.0</td>\n      <td>0.0</td>\n      <td>0.0</td>\n    </tr>\n    <tr>\n      <th>pixel783</th>\n      <td>42000.0</td>\n      <td>0.000000</td>\n      <td>0.000000</td>\n      <td>0.0</td>\n      <td>0.0</td>\n      <td>0.0</td>\n      <td>0.0</td>\n      <td>0.0</td>\n    </tr>\n  </tbody>\n</table>\n<p>784 rows × 8 columns</p>\n</div>"
     },
     "execution_count": 134,
     "metadata": {},
     "output_type": "execute_result"
    }
   ],
   "source": [
    "x_desc"
   ],
   "metadata": {
    "collapsed": false
   }
  },
  {
   "cell_type": "code",
   "execution_count": 141,
   "outputs": [
    {
     "data": {
      "text/plain": "708"
     },
     "execution_count": 141,
     "metadata": {},
     "output_type": "execute_result"
    }
   ],
   "source": [
    "column = x_desc[x_desc['std']!=0].index\n",
    "len(column)"
   ],
   "metadata": {
    "collapsed": false
   }
  },
  {
   "cell_type": "markdown",
   "source": [
    "# VarianceThreshold"
   ],
   "metadata": {
    "collapsed": false
   }
  },
  {
   "cell_type": "code",
   "execution_count": 143,
   "outputs": [],
   "source": [
    "from sklearn.feature_selection import VarianceThreshold"
   ],
   "metadata": {
    "collapsed": false
   }
  },
  {
   "cell_type": "code",
   "execution_count": 144,
   "outputs": [],
   "source": [
    "selector = VarianceThreshold()\n",
    "x_var0 = selector.fit_transform(x)"
   ],
   "metadata": {
    "collapsed": false
   }
  },
  {
   "cell_type": "code",
   "execution_count": 145,
   "outputs": [
    {
     "data": {
      "text/plain": "(42000, 708)"
     },
     "execution_count": 145,
     "metadata": {},
     "output_type": "execute_result"
    }
   ],
   "source": [
    "x_var0.shape"
   ],
   "metadata": {
    "collapsed": false
   }
  },
  {
   "cell_type": "code",
   "execution_count": 147,
   "outputs": [
    {
     "data": {
      "text/plain": "array([0.00000000e+00, 0.00000000e+00, 0.00000000e+00, 0.00000000e+00,\n       0.00000000e+00, 0.00000000e+00, 0.00000000e+00, 0.00000000e+00,\n       0.00000000e+00, 0.00000000e+00, 0.00000000e+00, 0.00000000e+00,\n       3.22760590e-01, 2.64689018e+00, 1.11085714e+00, 1.92857143e-03,\n       0.00000000e+00, 0.00000000e+00, 0.00000000e+00, 0.00000000e+00,\n       0.00000000e+00, 0.00000000e+00, 0.00000000e+00, 0.00000000e+00,\n       0.00000000e+00, 0.00000000e+00, 0.00000000e+00, 0.00000000e+00,\n       0.00000000e+00, 0.00000000e+00, 0.00000000e+00, 0.00000000e+00,\n       6.09523810e-03, 5.41186213e-02, 1.28065733e+00, 5.33793150e+00,\n       9.74592647e+00, 1.06219147e+01, 2.49289953e+01, 3.37671294e+01,\n       3.59425660e+01, 3.49309575e+01, 3.62943342e+01, 3.27911079e+01,\n       3.04237672e+01, 2.95547817e+01, 2.00568398e+01, 1.19545659e+01,\n       8.60419724e+00, 2.55465685e+00, 1.60530842e+00, 9.29377602e-01,\n       0.00000000e+00, 0.00000000e+00, 0.00000000e+00, 0.00000000e+00,\n       0.00000000e+00, 0.00000000e+00, 9.75238095e-02, 2.00238095e-02,\n       8.38442376e-01, 6.23481035e-01, 9.48446647e+00, 2.93530906e+01,\n       5.67872968e+01, 1.00230634e+02, 1.65873698e+02, 2.52738939e+02,\n       3.76018084e+02, 5.14426094e+02, 6.50102357e+02, 7.26608631e+02,\n       7.20549617e+02, 6.49594181e+02, 5.18814455e+02, 3.94092376e+02,\n       2.35038093e+02, 1.14843923e+02, 5.61521180e+01, 1.70331842e+01,\n       6.48083740e+00, 1.08821717e+00, 0.00000000e+00, 0.00000000e+00,\n       0.00000000e+00, 0.00000000e+00, 4.76236337e-01, 2.75489198e-01,\n       1.29297595e+00, 1.26446724e+01, 4.28153306e+01, 9.43924926e+01,\n       2.15866693e+02, 4.40079141e+02, 7.26679321e+02, 1.10776068e+03,\n       1.49073923e+03, 1.93993499e+03, 2.31552090e+03, 2.59022407e+03,\n       2.49637882e+03, 2.22627799e+03, 1.80800104e+03, 1.31417708e+03,\n       7.95887557e+02, 4.41320506e+02, 1.99165391e+02, 7.95865424e+01,\n       3.10264989e+01, 2.26837146e+00, 3.48595238e-01, 0.00000000e+00,\n       0.00000000e+00, 3.43809524e-02, 1.15447633e-01, 1.25289059e+00,\n       1.15530325e+01, 6.16749834e+01, 1.71059884e+02, 4.37266473e+02,\n       9.14503323e+02, 1.61733281e+03, 2.58238559e+03, 3.73319320e+03,\n       4.97101576e+03, 6.18285701e+03, 7.12176198e+03, 7.61902605e+03,\n       7.35140128e+03, 6.59732933e+03, 5.42159265e+03, 4.14622275e+03,\n       2.74210919e+03, 1.60716526e+03, 8.30092375e+02, 3.85524893e+02,\n       1.44471061e+02, 2.98361218e+01, 5.45472846e+00, 0.00000000e+00,\n       0.00000000e+00, 0.00000000e+00, 7.16499590e-01, 5.19710545e+00,\n       6.12264995e+01, 2.53650903e+02, 6.51218510e+02, 1.32512948e+03,\n       2.39625599e+03, 3.90432573e+03, 5.65248822e+03, 7.50750831e+03,\n       9.28013155e+03, 1.07098605e+04, 1.15505424e+04, 1.18353399e+04,\n       1.16728383e+04, 1.10553420e+04, 9.77051209e+03, 8.00603359e+03,\n       5.90601149e+03, 3.83759619e+03, 2.22900745e+03, 1.15756773e+03,\n       5.07963705e+02, 1.22007799e+02, 1.78286793e+01, 7.71428571e-03,\n       0.00000000e+00, 3.80952381e-04, 2.37199928e+00, 3.95713081e+01,\n       2.07427935e+02, 6.06480056e+02, 1.37944393e+03, 2.64652318e+03,\n       4.39063213e+03, 6.55335113e+03, 8.64850053e+03, 1.03924767e+04,\n       1.16602029e+04, 1.23720092e+04, 1.25944602e+04, 1.26223718e+04,\n       1.26261428e+04, 1.25617677e+04, 1.20570623e+04, 1.07029270e+04,\n       8.66359114e+03, 6.04366459e+03, 3.77715738e+03, 2.05026195e+03,\n       9.47173606e+02, 3.04430342e+02, 5.49548377e+01, 3.50648111e+00,\n       0.00000000e+00, 1.47595606e+00, 1.73365714e+01, 1.03708159e+02,\n       4.49220215e+02, 1.11598051e+03, 2.31261700e+03, 4.05981199e+03,\n       6.27112094e+03, 8.61258120e+03, 1.04088978e+04, 1.15863594e+04,\n       1.20861191e+04, 1.22313676e+04, 1.22256615e+04, 1.21230025e+04,\n       1.21304108e+04, 1.22345097e+04, 1.22810693e+04, 1.17587829e+04,\n       1.01382911e+04, 7.63237251e+03, 4.91736987e+03, 2.72324144e+03,\n       1.22087326e+03, 4.16952121e+02, 7.84619988e+01, 2.69471891e+00,\n       6.68809524e-02, 1.14742637e+01, 7.06094700e+01, 2.58579123e+02,\n       7.58812237e+02, 1.66236697e+03, 3.16372296e+03, 5.28061009e+03,\n       7.80859675e+03, 1.00912727e+04, 1.16171690e+04, 1.22797788e+04,\n       1.23833077e+04, 1.24581779e+04, 1.23866060e+04, 1.23021558e+04,\n       1.22796752e+04, 1.23185424e+04, 1.24370140e+04, 1.21441547e+04,\n       1.08800641e+04, 8.45510124e+03, 5.53590659e+03, 2.92299426e+03,\n       1.27293575e+03, 4.39632397e+02, 7.77464211e+01, 2.35152706e+00,\n       1.41387108e+00, 1.83873300e+01, 1.01219976e+02, 3.59094119e+02,\n       9.16376867e+02, 1.90547923e+03, 3.64144404e+03, 6.06890402e+03,\n       8.86696591e+03, 1.10299773e+04, 1.21997003e+04, 1.24677668e+04,\n       1.23878202e+04, 1.20816759e+04, 1.18414911e+04, 1.18243379e+04,\n       1.19196049e+04, 1.22058487e+04, 1.24040782e+04, 1.21013351e+04,\n       1.08905421e+04, 8.53288188e+03, 5.50599673e+03, 2.77180472e+03,\n       1.06085951e+03, 3.12689774e+02, 5.19949129e+01, 5.02228364e+00,\n       3.12121001e+00, 1.92336286e+01, 1.00196288e+02, 3.33760276e+02,\n       8.42723537e+02, 1.87713749e+03, 3.80614513e+03, 6.46513903e+03,\n       9.41022768e+03, 1.14543460e+04, 1.22494028e+04, 1.22551059e+04,\n       1.15972630e+04, 1.07756156e+04, 1.05723907e+04, 1.10540147e+04,\n       1.14904415e+04, 1.20641837e+04, 1.22340857e+04, 1.19219747e+04,\n       1.04672465e+04, 8.02282693e+03, 5.11996418e+03, 2.49340573e+03,\n       8.29185839e+02, 2.02728469e+02, 3.65252982e+01, 4.73545802e+00,\n       6.54689762e-01, 1.10762921e+01, 8.21810900e+01, 2.45993138e+02,\n       6.88037918e+02, 1.77097595e+03, 3.89510214e+03, 6.82414020e+03,\n       9.88524752e+03, 1.16866740e+04, 1.22052249e+04, 1.18503310e+04,\n       1.08057141e+04, 1.00029368e+04, 1.05613005e+04, 1.13459087e+04,\n       1.16813954e+04, 1.21153444e+04, 1.22013911e+04, 1.16257849e+04,\n       9.77524122e+03, 7.24039730e+03, 4.72965127e+03, 2.39611574e+03,\n       7.37971166e+02, 1.05994299e+02, 2.09059137e+01, 7.86044778e-01,\n       6.32595238e-01, 6.32770971e+00, 4.96597411e+01, 1.73335928e+02,\n       5.64355135e+02, 1.79246896e+03, 4.19852946e+03, 7.42330328e+03,\n       1.03680620e+04, 1.19241275e+04, 1.22167302e+04, 1.17312041e+04,\n       1.08331969e+04, 1.06956425e+04, 1.18765965e+04, 1.23125550e+04,\n       1.21036991e+04, 1.23648277e+04, 1.23532159e+04, 1.12659827e+04,\n       9.01309194e+03, 6.65304923e+03, 4.53230600e+03, 2.53236771e+03,\n       8.13317532e+02, 7.57360821e+01, 1.22663918e+01, 9.49856083e-01,\n       2.43809524e-02, 2.05312854e+00, 2.37737153e+01, 1.15295050e+02,\n       5.23151198e+02, 2.00356402e+03, 4.71208413e+03, 8.02210576e+03,\n       1.07142826e+04, 1.19844734e+04, 1.21443066e+04, 1.17352672e+04,\n       1.13501890e+04, 1.18058310e+04, 1.29305253e+04, 1.24664835e+04,\n       1.21090771e+04, 1.25723716e+04, 1.24760936e+04, 1.09595385e+04,\n       8.66572810e+03, 6.56048630e+03, 4.59945505e+03, 2.74090145e+03,\n       9.79975029e+02, 1.02467830e+02, 1.16955902e+01, 2.92035599e+00,\n       0.00000000e+00, 8.53042930e-01, 8.80331299e+00, 7.52414185e+01,\n       5.33884018e+02, 2.30333924e+03, 5.22384299e+03, 8.41596660e+03,\n       1.08537671e+04, 1.19270178e+04, 1.19856397e+04, 1.17039418e+04,\n       1.16715555e+04, 1.24445986e+04, 1.29618550e+04, 1.20230391e+04,\n       1.20377425e+04, 1.26434659e+04, 1.24012680e+04, 1.08759560e+04,\n       8.87523588e+03, 6.85569402e+03, 4.84378377e+03, 2.91796192e+03,\n       1.10844668e+03, 1.39672375e+02, 8.86639995e+00, 7.94981734e-02,\n       0.00000000e+00, 0.00000000e+00, 4.63950502e+00, 8.33393904e+01,\n       6.29744755e+02, 2.69185746e+03, 5.62185375e+03, 8.53435292e+03,\n       1.06354679e+04, 1.16397177e+04, 1.17410232e+04, 1.17248709e+04,\n       1.20446633e+04, 1.27114555e+04, 1.27125078e+04, 1.20008852e+04,\n       1.24098689e+04, 1.26745406e+04, 1.20741286e+04, 1.08898533e+04,\n       9.21323231e+03, 7.22598679e+03, 5.04689745e+03, 2.90913735e+03,\n       1.12277645e+03, 1.91078386e+02, 2.57469149e+01, 1.29179123e+00,\n       0.00000000e+00, 7.69744852e-02, 1.03197870e+01, 1.11053766e+02,\n       8.11564748e+02, 3.07386387e+03, 5.91065656e+03, 8.36008213e+03,\n       1.01408287e+04, 1.10632136e+04, 1.12910607e+04, 1.14976813e+04,\n       1.20735231e+04, 1.27502876e+04, 1.26987222e+04, 1.23901805e+04,\n       1.26170244e+04, 1.23916950e+04, 1.17483338e+04, 1.09217037e+04,\n       9.48760960e+03, 7.35171522e+03, 5.01095743e+03, 2.72992609e+03,\n       1.04916705e+03, 2.25941630e+02, 3.05993271e+01, 2.87316363e+00,\n       0.00000000e+00, 2.28039253e-01, 1.74352649e+01, 1.69998742e+02,\n       1.10767541e+03, 3.43926495e+03, 6.05208363e+03, 8.08344097e+03,\n       9.50906305e+03, 1.03073030e+04, 1.06715518e+04, 1.10973680e+04,\n       1.17642567e+04, 1.22940460e+04, 1.25222837e+04, 1.24838281e+04,\n       1.23538616e+04, 1.20985659e+04, 1.17177753e+04, 1.10570877e+04,\n       9.47381642e+03, 7.19094489e+03, 4.63491474e+03, 2.42432309e+03,\n       9.17534777e+02, 2.34119338e+02, 3.27687618e+01, 1.59861539e+00,\n       1.47639388e-01, 4.47934602e-01, 2.76028871e+01, 2.71942488e+02,\n       1.45371251e+03, 3.83133451e+03, 6.28631187e+03, 8.14612790e+03,\n       9.30917203e+03, 1.00179199e+04, 1.05639229e+04, 1.09925571e+04,\n       1.13187529e+04, 1.19116163e+04, 1.23480093e+04, 1.23440430e+04,\n       1.21692394e+04, 1.21290528e+04, 1.19460348e+04, 1.11011974e+04,\n       9.19667530e+03, 6.71976236e+03, 4.18683656e+03, 2.12415117e+03,\n       8.18965786e+02, 2.22857925e+02, 2.54140760e+01, 1.36995713e+00,\n       0.00000000e+00, 1.81578450e+00, 4.96345920e+01, 3.80903626e+02,\n       1.68403918e+03, 4.10905800e+03, 6.66129020e+03, 8.56235623e+03,\n       9.76878976e+03, 1.05714566e+04, 1.11195093e+04, 1.14535438e+04,\n       1.17907581e+04, 1.21204054e+04, 1.24479360e+04, 1.23900112e+04,\n       1.22489975e+04, 1.23606302e+04, 1.19785927e+04, 1.06491638e+04,\n       8.49640625e+03, 5.95805507e+03, 3.53263357e+03, 1.70287256e+03,\n       6.43673157e+02, 1.79133677e+02, 2.84028991e+01, 6.28175963e-01,\n       0.00000000e+00, 1.23625493e+00, 5.65580767e+01, 4.36617659e+02,\n       1.67611596e+03, 3.91825583e+03, 6.61848502e+03, 8.93197399e+03,\n       1.05084494e+04, 1.14328933e+04, 1.19110401e+04, 1.21686631e+04,\n       1.23576844e+04, 1.24269771e+04, 1.24145723e+04, 1.24011494e+04,\n       1.23905027e+04, 1.22793811e+04, 1.14389559e+04, 9.61909799e+03,\n       7.11272858e+03, 4.61189510e+03, 2.55069845e+03, 1.22448673e+03,\n       4.85654757e+02, 1.30709778e+02, 1.54997227e+01, 5.95238095e-02,\n       2.43809524e-02, 5.50986923e-01, 4.58334020e+01, 3.50464999e+02,\n       1.27200240e+03, 3.19694301e+03, 5.84711073e+03, 8.57024623e+03,\n       1.06775424e+04, 1.19000918e+04, 1.23555360e+04, 1.24402093e+04,\n       1.23586522e+04, 1.21992581e+04, 1.22280936e+04, 1.23162507e+04,\n       1.22510127e+04, 1.16314635e+04, 1.00849238e+04, 7.71018098e+03,\n       5.16732671e+03, 2.99318809e+03, 1.58471510e+03, 7.70678750e+02,\n       2.90603130e+02, 7.36919311e+01, 9.81920114e+00, 3.62142857e-02,\n       2.28809524e-02, 2.76185941e-03, 2.81056704e+01, 2.04208025e+02,\n       7.29051694e+02, 2.00572701e+03, 4.21366647e+03, 6.92346357e+03,\n       9.57389827e+03, 1.14603398e+04, 1.24666788e+04, 1.27682484e+04,\n       1.26613017e+04, 1.25534327e+04, 1.25998206e+04, 1.23927837e+04,\n       1.15590439e+04, 9.88953142e+03, 7.53295513e+03, 5.11441259e+03,\n       3.05547189e+03, 1.66092585e+03, 8.39969863e+02, 3.84512312e+02,\n       1.34737119e+02, 2.71408189e+01, 3.06857624e+00, 1.23428571e-01,\n       0.00000000e+00, 0.00000000e+00, 7.31084788e+00, 7.57570670e+01,\n       3.18535551e+02, 8.92561149e+02, 2.13007164e+03, 4.15513729e+03,\n       6.67943441e+03, 9.08942045e+03, 1.08768840e+04, 1.18600478e+04,\n       1.22185140e+04, 1.21488922e+04, 1.16761724e+04, 1.06623427e+04,\n       8.88180421e+03, 6.72867491e+03, 4.52696553e+03, 2.78125867e+03,\n       1.57340674e+03, 7.99627345e+02, 3.90776811e+02, 1.74143994e+02,\n       5.13083781e+01, 8.53411049e+00, 1.14082626e+00, 0.00000000e+00,\n       0.00000000e+00, 0.00000000e+00, 3.09874806e+00, 2.12014616e+01,\n       9.01086432e+01, 2.89578069e+02, 7.37002996e+02, 1.63305438e+03,\n       3.00614325e+03, 4.75217719e+03, 6.42418657e+03, 7.68266614e+03,\n       8.23705320e+03, 8.21603450e+03, 7.48615583e+03, 6.25364040e+03,\n       4.88502834e+03, 3.50985901e+03, 2.25424437e+03, 1.40076179e+03,\n       7.54457368e+02, 3.85015891e+02, 1.70931569e+02, 7.23728862e+01,\n       1.53588609e+01, 3.76286683e+00, 2.36378952e-01, 0.00000000e+00,\n       0.00000000e+00, 0.00000000e+00, 7.89492516e-02, 3.23002085e+00,\n       2.66993369e+01, 8.62829380e+01, 2.42567552e+02, 5.74670736e+02,\n       1.16062824e+03, 1.85908331e+03, 2.63430007e+03, 3.18296192e+03,\n       3.47208469e+03, 3.42498298e+03, 3.04423070e+03, 2.59463417e+03,\n       2.08583729e+03, 1.54170230e+03, 1.04262030e+03, 6.17155891e+02,\n       3.32872699e+02, 1.63141373e+02, 6.60019146e+01, 2.49646484e+01,\n       2.80197112e+00, 5.64225568e-01, 2.57523810e-01, 0.00000000e+00,\n       0.00000000e+00, 0.00000000e+00, 0.00000000e+00, 0.00000000e+00,\n       5.85748256e+00, 2.32008075e+01, 9.24954784e+01, 2.19439668e+02,\n       4.27698080e+02, 6.31131067e+02, 9.05773738e+02, 1.16529687e+03,\n       1.28219277e+03, 1.23351933e+03, 1.09034012e+03, 8.82789099e+02,\n       7.26724558e+02, 5.23459986e+02, 3.45778063e+02, 2.08353021e+02,\n       1.10624593e+02, 4.18520306e+01, 1.58110107e+01, 3.40777397e+00,\n       1.94759195e-02, 8.28809524e-02, 0.00000000e+00, 0.00000000e+00,\n       0.00000000e+00, 0.00000000e+00, 0.00000000e+00, 0.00000000e+00,\n       0.00000000e+00, 9.02126602e-01, 5.52653803e+00, 1.54785620e+01,\n       2.06441456e+01, 3.43017827e+01, 5.21246770e+01, 7.97142975e+01,\n       1.00081387e+02, 1.02608696e+02, 1.26673478e+02, 1.14405059e+02,\n       8.98716430e+01, 6.32064973e+01, 3.98525769e+01, 2.14722761e+01,\n       1.07222715e+01, 3.09714228e+00, 3.58912164e+00, 1.71614970e-01,\n       0.00000000e+00, 0.00000000e+00, 0.00000000e+00, 0.00000000e+00])"
     },
     "execution_count": 147,
     "metadata": {},
     "output_type": "execute_result"
    }
   ],
   "source": [
    "x.var().values"
   ],
   "metadata": {
    "collapsed": false
   }
  },
  {
   "cell_type": "code",
   "execution_count": 150,
   "outputs": [
    {
     "data": {
      "text/plain": "       pixel0  pixel1  pixel2  pixel3  pixel4  pixel5  pixel6  pixel7  pixel8  \\\n0           0       0       0       0       0       0       0       0       0   \n1           0       0       0       0       0       0       0       0       0   \n2           0       0       0       0       0       0       0       0       0   \n3           0       0       0       0       0       0       0       0       0   \n4           0       0       0       0       0       0       0       0       0   \n...       ...     ...     ...     ...     ...     ...     ...     ...     ...   \n41995       0       0       0       0       0       0       0       0       0   \n41996       0       0       0       0       0       0       0       0       0   \n41997       0       0       0       0       0       0       0       0       0   \n41998       0       0       0       0       0       0       0       0       0   \n41999       0       0       0       0       0       0       0       0       0   \n\n       pixel9  ...  pixel774  pixel775  pixel776  pixel777  pixel778  \\\n0           0  ...         0         0         0         0         0   \n1           0  ...         0         0         0         0         0   \n2           0  ...         0         0         0         0         0   \n3           0  ...         0         0         0         0         0   \n4           0  ...         0         0         0         0         0   \n...       ...  ...       ...       ...       ...       ...       ...   \n41995       0  ...         0         0         0         0         0   \n41996       0  ...         0         0         0         0         0   \n41997       0  ...         0         0         0         0         0   \n41998       0  ...         0         0         0         0         0   \n41999       0  ...         0         0         0         0         0   \n\n       pixel779  pixel780  pixel781  pixel782  pixel783  \n0             0         0         0         0         0  \n1             0         0         0         0         0  \n2             0         0         0         0         0  \n3             0         0         0         0         0  \n4             0         0         0         0         0  \n...         ...       ...       ...       ...       ...  \n41995         0         0         0         0         0  \n41996         0         0         0         0         0  \n41997         0         0         0         0         0  \n41998         0         0         0         0         0  \n41999         0         0         0         0         0  \n\n[42000 rows x 784 columns]",
      "text/html": "<div>\n<style scoped>\n    .dataframe tbody tr th:only-of-type {\n        vertical-align: middle;\n    }\n\n    .dataframe tbody tr th {\n        vertical-align: top;\n    }\n\n    .dataframe thead th {\n        text-align: right;\n    }\n</style>\n<table border=\"1\" class=\"dataframe\">\n  <thead>\n    <tr style=\"text-align: right;\">\n      <th></th>\n      <th>pixel0</th>\n      <th>pixel1</th>\n      <th>pixel2</th>\n      <th>pixel3</th>\n      <th>pixel4</th>\n      <th>pixel5</th>\n      <th>pixel6</th>\n      <th>pixel7</th>\n      <th>pixel8</th>\n      <th>pixel9</th>\n      <th>...</th>\n      <th>pixel774</th>\n      <th>pixel775</th>\n      <th>pixel776</th>\n      <th>pixel777</th>\n      <th>pixel778</th>\n      <th>pixel779</th>\n      <th>pixel780</th>\n      <th>pixel781</th>\n      <th>pixel782</th>\n      <th>pixel783</th>\n    </tr>\n  </thead>\n  <tbody>\n    <tr>\n      <th>0</th>\n      <td>0</td>\n      <td>0</td>\n      <td>0</td>\n      <td>0</td>\n      <td>0</td>\n      <td>0</td>\n      <td>0</td>\n      <td>0</td>\n      <td>0</td>\n      <td>0</td>\n      <td>...</td>\n      <td>0</td>\n      <td>0</td>\n      <td>0</td>\n      <td>0</td>\n      <td>0</td>\n      <td>0</td>\n      <td>0</td>\n      <td>0</td>\n      <td>0</td>\n      <td>0</td>\n    </tr>\n    <tr>\n      <th>1</th>\n      <td>0</td>\n      <td>0</td>\n      <td>0</td>\n      <td>0</td>\n      <td>0</td>\n      <td>0</td>\n      <td>0</td>\n      <td>0</td>\n      <td>0</td>\n      <td>0</td>\n      <td>...</td>\n      <td>0</td>\n      <td>0</td>\n      <td>0</td>\n      <td>0</td>\n      <td>0</td>\n      <td>0</td>\n      <td>0</td>\n      <td>0</td>\n      <td>0</td>\n      <td>0</td>\n    </tr>\n    <tr>\n      <th>2</th>\n      <td>0</td>\n      <td>0</td>\n      <td>0</td>\n      <td>0</td>\n      <td>0</td>\n      <td>0</td>\n      <td>0</td>\n      <td>0</td>\n      <td>0</td>\n      <td>0</td>\n      <td>...</td>\n      <td>0</td>\n      <td>0</td>\n      <td>0</td>\n      <td>0</td>\n      <td>0</td>\n      <td>0</td>\n      <td>0</td>\n      <td>0</td>\n      <td>0</td>\n      <td>0</td>\n    </tr>\n    <tr>\n      <th>3</th>\n      <td>0</td>\n      <td>0</td>\n      <td>0</td>\n      <td>0</td>\n      <td>0</td>\n      <td>0</td>\n      <td>0</td>\n      <td>0</td>\n      <td>0</td>\n      <td>0</td>\n      <td>...</td>\n      <td>0</td>\n      <td>0</td>\n      <td>0</td>\n      <td>0</td>\n      <td>0</td>\n      <td>0</td>\n      <td>0</td>\n      <td>0</td>\n      <td>0</td>\n      <td>0</td>\n    </tr>\n    <tr>\n      <th>4</th>\n      <td>0</td>\n      <td>0</td>\n      <td>0</td>\n      <td>0</td>\n      <td>0</td>\n      <td>0</td>\n      <td>0</td>\n      <td>0</td>\n      <td>0</td>\n      <td>0</td>\n      <td>...</td>\n      <td>0</td>\n      <td>0</td>\n      <td>0</td>\n      <td>0</td>\n      <td>0</td>\n      <td>0</td>\n      <td>0</td>\n      <td>0</td>\n      <td>0</td>\n      <td>0</td>\n    </tr>\n    <tr>\n      <th>...</th>\n      <td>...</td>\n      <td>...</td>\n      <td>...</td>\n      <td>...</td>\n      <td>...</td>\n      <td>...</td>\n      <td>...</td>\n      <td>...</td>\n      <td>...</td>\n      <td>...</td>\n      <td>...</td>\n      <td>...</td>\n      <td>...</td>\n      <td>...</td>\n      <td>...</td>\n      <td>...</td>\n      <td>...</td>\n      <td>...</td>\n      <td>...</td>\n      <td>...</td>\n      <td>...</td>\n    </tr>\n    <tr>\n      <th>41995</th>\n      <td>0</td>\n      <td>0</td>\n      <td>0</td>\n      <td>0</td>\n      <td>0</td>\n      <td>0</td>\n      <td>0</td>\n      <td>0</td>\n      <td>0</td>\n      <td>0</td>\n      <td>...</td>\n      <td>0</td>\n      <td>0</td>\n      <td>0</td>\n      <td>0</td>\n      <td>0</td>\n      <td>0</td>\n      <td>0</td>\n      <td>0</td>\n      <td>0</td>\n      <td>0</td>\n    </tr>\n    <tr>\n      <th>41996</th>\n      <td>0</td>\n      <td>0</td>\n      <td>0</td>\n      <td>0</td>\n      <td>0</td>\n      <td>0</td>\n      <td>0</td>\n      <td>0</td>\n      <td>0</td>\n      <td>0</td>\n      <td>...</td>\n      <td>0</td>\n      <td>0</td>\n      <td>0</td>\n      <td>0</td>\n      <td>0</td>\n      <td>0</td>\n      <td>0</td>\n      <td>0</td>\n      <td>0</td>\n      <td>0</td>\n    </tr>\n    <tr>\n      <th>41997</th>\n      <td>0</td>\n      <td>0</td>\n      <td>0</td>\n      <td>0</td>\n      <td>0</td>\n      <td>0</td>\n      <td>0</td>\n      <td>0</td>\n      <td>0</td>\n      <td>0</td>\n      <td>...</td>\n      <td>0</td>\n      <td>0</td>\n      <td>0</td>\n      <td>0</td>\n      <td>0</td>\n      <td>0</td>\n      <td>0</td>\n      <td>0</td>\n      <td>0</td>\n      <td>0</td>\n    </tr>\n    <tr>\n      <th>41998</th>\n      <td>0</td>\n      <td>0</td>\n      <td>0</td>\n      <td>0</td>\n      <td>0</td>\n      <td>0</td>\n      <td>0</td>\n      <td>0</td>\n      <td>0</td>\n      <td>0</td>\n      <td>...</td>\n      <td>0</td>\n      <td>0</td>\n      <td>0</td>\n      <td>0</td>\n      <td>0</td>\n      <td>0</td>\n      <td>0</td>\n      <td>0</td>\n      <td>0</td>\n      <td>0</td>\n    </tr>\n    <tr>\n      <th>41999</th>\n      <td>0</td>\n      <td>0</td>\n      <td>0</td>\n      <td>0</td>\n      <td>0</td>\n      <td>0</td>\n      <td>0</td>\n      <td>0</td>\n      <td>0</td>\n      <td>0</td>\n      <td>...</td>\n      <td>0</td>\n      <td>0</td>\n      <td>0</td>\n      <td>0</td>\n      <td>0</td>\n      <td>0</td>\n      <td>0</td>\n      <td>0</td>\n      <td>0</td>\n      <td>0</td>\n    </tr>\n  </tbody>\n</table>\n<p>42000 rows × 784 columns</p>\n</div>"
     },
     "execution_count": 150,
     "metadata": {},
     "output_type": "execute_result"
    }
   ],
   "source": [
    "x"
   ],
   "metadata": {
    "collapsed": false
   }
  },
  {
   "cell_type": "code",
   "execution_count": 148,
   "outputs": [],
   "source": [
    "# 设定方差中位数作为阈值\n",
    "import numpy as np\n",
    "x_fsvar = VarianceThreshold(np.median(x.var().values)).fit_transform(x)"
   ],
   "metadata": {
    "collapsed": false
   }
  },
  {
   "cell_type": "code",
   "execution_count": 149,
   "outputs": [
    {
     "data": {
      "text/plain": "array([[  0,   0,   0, ...,   0,   0,   0],\n       [  0,   0,   0, ...,   0,   0,   0],\n       [  0,   0,   0, ...,   0,   0,   0],\n       ...,\n       [  0,   0,   0, ...,   0,   0,   0],\n       [  0,   0,   0, ...,   0,   0,   0],\n       [  0,   0,   0, ...,  74, 250,  59]], dtype=int64)"
     },
     "execution_count": 149,
     "metadata": {},
     "output_type": "execute_result"
    }
   ],
   "source": [
    "x_fsvar"
   ],
   "metadata": {
    "collapsed": false
   }
  },
  {
   "cell_type": "markdown",
   "source": [
    "# 方差过滤对模型的影响"
   ],
   "metadata": {
    "collapsed": false
   }
  },
  {
   "cell_type": "markdown",
   "source": [
    "# 1.导入模块并准备数据"
   ],
   "metadata": {
    "collapsed": false
   }
  },
  {
   "cell_type": "code",
   "execution_count": 151,
   "outputs": [],
   "source": [
    "# knn vs 随机森林在不同方差过滤效果下的对比\n",
    "from sklearn.ensemble import RandomForestClassifier as rfc\n",
    "from sklearn.neighbors import KNeighborsClassifier as KNN\n",
    "from sklearn.model_selection import cross_val_score\n",
    "import numpy as np"
   ],
   "metadata": {
    "collapsed": false
   }
  },
  {
   "cell_type": "code",
   "execution_count": null,
   "outputs": [],
   "source": [
    "x = data.iloc[:,1:]\n",
    "y = data.iloc[:,0]\n",
    "\n",
    "x_fsvar = VarianceThreshold(np.median(x.var().values)).fit_transform(x)"
   ],
   "metadata": {
    "collapsed": false
   }
  },
  {
   "cell_type": "code",
   "execution_count": null,
   "outputs": [],
   "source": [
    "# knn方差过滤前\n",
    "%%timeit\n",
    "cross_val_score(KNN(),x,y,cv=5).mean()"
   ],
   "metadata": {
    "collapsed": false
   }
  },
  {
   "cell_type": "markdown",
   "source": [
    "# 3.1.2 相关性过滤"
   ],
   "metadata": {
    "collapsed": false
   }
  },
  {
   "cell_type": "markdown",
   "source": [
    "## 3.1.2.1 卡方过滤"
   ],
   "metadata": {
    "collapsed": false
   }
  },
  {
   "cell_type": "code",
   "execution_count": 153,
   "outputs": [],
   "source": [
    "from sklearn.feature_selection import SelectKBest\n",
    "from sklearn.feature_selection import chi2"
   ],
   "metadata": {
    "collapsed": false
   }
  },
  {
   "cell_type": "code",
   "execution_count": 154,
   "outputs": [],
   "source": [
    "x_fschi = SelectKBest(chi2,k=300).fit_transform(x_fsvar,y)"
   ],
   "metadata": {
    "collapsed": false
   }
  },
  {
   "cell_type": "code",
   "execution_count": 155,
   "outputs": [
    {
     "data": {
      "text/plain": "(42000, 300)"
     },
     "execution_count": 155,
     "metadata": {},
     "output_type": "execute_result"
    }
   ],
   "source": [
    "x_fschi.shape"
   ],
   "metadata": {
    "collapsed": false
   }
  },
  {
   "cell_type": "markdown",
   "source": [
    "## 3.1.2.2 选取超参数k"
   ],
   "metadata": {
    "collapsed": false
   }
  },
  {
   "cell_type": "code",
   "execution_count": null,
   "outputs": [],
   "source": [
    "%matplot inline\n",
    "import matplotlib.pyplot as plt\n",
    "score =[]\n",
    "for i in range(390,200,-10):\n",
    "    x_fschi = SelectKBest(chi2,k=i).fit_transform(x_fsvar,y)\n",
    "    once = cross_val_score(rfc(n_estimators=10,random_state=0),x_fschi,y,cv=5)\n",
    "    score.append(once)\n",
    "plt.plot(range(350,200,-10),score)\n",
    "plt.show()"
   ],
   "metadata": {
    "collapsed": false
   }
  },
  {
   "cell_type": "markdown",
   "source": [
    "## 3.1.2.3 F检验"
   ],
   "metadata": {
    "collapsed": false
   }
  },
  {
   "cell_type": "code",
   "execution_count": 157,
   "outputs": [
    {
     "data": {
      "text/plain": "array([ 618.65383492,  846.18897012, 1115.40617051, 1362.3677305 ,\n       1452.03355369, 1381.09095571, 1138.26505266,  464.29616121,\n        660.00977785,  849.66393412, 1004.7450309 , 1124.76177588,\n       1200.99190762, 1209.29489877, 1110.4944286 ,  854.66183292,\n        577.52063451,  342.09729054,  178.67397866,  118.01145533,\n        612.12261014,  899.40904291, 1196.17528948, 1424.49864852,\n       1569.26556677, 1742.49910702, 1910.98023795, 1969.20520223,\n       1731.37475948, 1295.09668012,  839.15325001,  531.97951763,\n        371.82392681,  336.00820537,  378.93378743,  317.47025479,\n        528.94881012,  766.40792176,  947.63168717, 1086.0472161 ,\n       1177.72017709, 1253.79641973, 1344.06961068, 1507.33781169,\n       1616.50454434, 1512.25864876, 1289.65180587, 1051.26276412,\n        839.48869386,  680.07426932,  600.85538567,  633.55772663,\n        683.96908509,  347.65867784,  452.76238211,  509.16387684,\n        515.7498157 ,  532.86107778,  594.62512658,  664.18740444,\n        709.37133696,  798.11767931,  876.69849088,  852.76926441,\n        785.70173347,  802.88980095,  813.2041131 ,  760.85552527,\n        687.94148028,  642.84071735,  698.11530217,  367.16414289,\n        455.90449427,  485.50500277,  476.23046034,  536.72332365,\n        740.12587382, 1041.38089649, 1168.8028973 ,  941.91083922,\n        795.72843454,  861.29818828,  868.19464432,  838.80173567,\n        886.26659655,  959.12740961,  934.56890789,  783.1988476 ,\n        631.01107034,  542.02937189,  493.83337615,  533.27899195,\n        572.34131749,  657.20547321,  981.66873526, 1465.82267956,\n       1756.05831022, 1385.28086085,  798.73125604,  761.40508874,\n       1062.6919609 ,  979.38193965,  947.82602644, 1085.00522683,\n       1152.13801689, 1118.1595422 , 1021.13086631,  812.37823266,\n        509.86857625,  411.37986706,  430.7150329 ,  545.55866945,\n        829.92259533, 1376.4852629 , 1811.62922878, 1601.33613631,\n        898.8719158 ,  417.37765921,  895.77244253, 1455.38592931,\n        956.2421521 ,  990.1748413 , 1359.47406197, 1279.27992017,\n       1166.80888121, 1291.41792351, 1263.86987819,  787.81807986,\n        237.21811742,  333.12552194,  621.47324186, 1139.04489426,\n       1713.54508435, 1823.42451065, 1436.53069242,  884.19442779,\n        717.63373994, 2026.90370414, 2219.46450157,  943.55587655,\n       1217.29127813, 1677.03878308, 1193.63540136, 1039.56842784,\n       1570.18098323, 1878.5600272 , 1284.78903715,  190.02740438,\n        444.17019739,  928.80156872, 1562.54171587, 1940.54801063,\n       1816.57346013, 1683.83193784, 1619.17496376, 1865.78706551,\n       3482.82350415, 2326.10253286,  990.67999393, 1632.46650414,\n       1652.51500198,  891.26746579,  883.96689508, 1805.57103626,\n       2389.97435433, 1630.34926872,  301.84091297,  746.3286491 ,\n       1394.82469151, 2008.19411716, 2107.3680475 , 1767.97892382,\n       1786.08753011, 1980.1986791 , 2509.14739387, 3366.13986444,\n       1959.90573326, 1299.36608875, 2218.28123025, 1470.25657381,\n        681.02610086,  937.54741741, 2037.45812231, 2518.68810085,\n       1583.0009463 ,  509.76276636, 1139.21364745, 1881.71834116,\n       2351.30851824, 2175.48525458, 1624.49647062, 1399.44534221,\n       1440.98664744, 2229.25720739, 2764.00452882, 1633.74258116,\n       1870.29253742, 2628.79930504, 1367.31440177,  707.38857243,\n       1150.06936228, 2089.08213594, 2185.00557858, 1318.14722036,\n        747.37697661, 1453.94015412, 2116.40726513, 2399.53090598,\n       2143.53519978, 1651.89817908, 1414.71662551, 1481.62100314,\n       2468.21266727, 2666.18025642, 1520.6400065 , 2223.14029953,\n       2271.07109628, 1111.06997494,  844.31183874, 1388.60413626,\n       1917.10207189, 1667.61400215,  996.09054823,  907.80926355,\n       1607.70263546, 2085.21461056, 2073.68356276, 1880.26929744,\n       1756.40165025, 1716.45478479, 1964.08537105, 2796.13761562,\n       2413.09378391, 1543.01310963, 2118.10377396, 1475.29541488,\n        783.59003763, 1040.65400476, 1582.46200024, 1617.32566033,\n       1188.24554305,  642.2665701 , 1011.30241064, 1725.70185142,\n       2067.20755476, 1893.35116837, 1795.96538455, 1922.58627318,\n       1951.69309645, 2115.44871238, 2479.27958039, 1809.12095649,\n       1330.8686207 , 1396.29767244,  741.9063402 ,  751.14036409,\n       1410.18529816, 1677.6595494 , 1308.77910167,  836.77047561,\n        430.93133677,  313.888671  , 1039.31894918, 1811.68171256,\n       2191.69964967, 2035.63638826, 2114.65218363, 2511.27142071,\n       2363.46743373, 2053.7687027 , 1865.84769096, 1202.94179711,\n        793.61414555,  633.71267282,  636.18282736, 1218.61245591,\n       1712.62901816, 1484.60290068,  996.06129466,  626.13659134,\n        441.56356583,  374.08815796,  983.21640593, 1764.93014215,\n       2264.93587233, 2262.87269162, 2323.50890468, 2611.66920897,\n       2387.45723028, 1763.5696083 , 1256.32165954,  704.77285945,\n        406.94580935,  548.06969664, 1051.50016486, 1542.11172909,\n       1494.38472469, 1130.61174365,  823.84437277,  650.69506052,\n        594.18011033,  415.73313115,  853.97575783, 1548.7167469 ,\n       2204.00694989, 2444.69535795, 2267.62871155, 2003.69161124,\n       1643.94961527, 1202.35520102,  804.18805494,  483.32932365,\n        420.99263006,  750.06949525, 1136.32227345, 1202.49476981,\n        990.75097727,  791.03016258,  692.46641159,  653.96372577,\n        647.90433225, 1149.80460733, 1826.54973661, 2361.75564926,\n       2313.09139096, 1694.26613916, 1012.97938867,  608.4174945 ,\n        432.07115684,  383.54620406,  487.70312805,  698.78061024,\n        797.0763827 ,  714.70722998,  574.2849126 ,  507.5143557 ,\n        508.77434021,  510.36884435,  404.13860698,  686.31274396,\n       1103.81003251, 1590.83695172, 1912.74984902, 1832.62220523,\n       1482.39046946, 1142.10827805,  968.65089356,  860.24853405,\n        780.75215696,  696.78170045,  567.41403081,  403.59649375,\n        284.91007929,  245.59060983,  255.97458001,  293.6787996 ,\n        460.46868009,  687.29383613,  940.06512113, 1205.58777055,\n       1485.37178744, 1623.12886955, 1488.04856361, 1119.91615126,\n        770.06544455,  530.6398126 ,  376.66549502,  258.05875548,\n        172.20323661,  123.79865884,  160.44132806,  249.15104257,\n        374.15221131,  544.73535425,  727.78945347,  853.98680046,\n        819.19801306,  656.55547718,  510.87851723,  445.09613969,\n        401.25608847,  333.48574029,  243.88699402,  645.9545719 ,\n        920.3259526 , 1196.07900013, 1308.12260763, 1218.37705687,\n        996.41501921,  792.59409228,  663.47516843,  550.14745143])"
     },
     "execution_count": 157,
     "metadata": {},
     "output_type": "execute_result"
    }
   ],
   "source": [
    "from sklearn.feature_selection import f_classif\n",
    "F,pvalues_f = f_classif(x_fsvar,y)\n",
    "F"
   ],
   "metadata": {
    "collapsed": false
   }
  },
  {
   "cell_type": "code",
   "execution_count": 158,
   "outputs": [
    {
     "data": {
      "text/plain": "array([0.00000000e+000, 0.00000000e+000, 0.00000000e+000, 0.00000000e+000,\n       0.00000000e+000, 0.00000000e+000, 0.00000000e+000, 0.00000000e+000,\n       0.00000000e+000, 0.00000000e+000, 0.00000000e+000, 0.00000000e+000,\n       0.00000000e+000, 0.00000000e+000, 0.00000000e+000, 0.00000000e+000,\n       0.00000000e+000, 0.00000000e+000, 0.00000000e+000, 4.71193533e-220,\n       0.00000000e+000, 0.00000000e+000, 0.00000000e+000, 0.00000000e+000,\n       0.00000000e+000, 0.00000000e+000, 0.00000000e+000, 0.00000000e+000,\n       0.00000000e+000, 0.00000000e+000, 0.00000000e+000, 0.00000000e+000,\n       0.00000000e+000, 0.00000000e+000, 0.00000000e+000, 0.00000000e+000,\n       0.00000000e+000, 0.00000000e+000, 0.00000000e+000, 0.00000000e+000,\n       0.00000000e+000, 0.00000000e+000, 0.00000000e+000, 0.00000000e+000,\n       0.00000000e+000, 0.00000000e+000, 0.00000000e+000, 0.00000000e+000,\n       0.00000000e+000, 0.00000000e+000, 0.00000000e+000, 0.00000000e+000,\n       0.00000000e+000, 0.00000000e+000, 0.00000000e+000, 0.00000000e+000,\n       0.00000000e+000, 0.00000000e+000, 0.00000000e+000, 0.00000000e+000,\n       0.00000000e+000, 0.00000000e+000, 0.00000000e+000, 0.00000000e+000,\n       0.00000000e+000, 0.00000000e+000, 0.00000000e+000, 0.00000000e+000,\n       0.00000000e+000, 0.00000000e+000, 0.00000000e+000, 0.00000000e+000,\n       0.00000000e+000, 0.00000000e+000, 0.00000000e+000, 0.00000000e+000,\n       0.00000000e+000, 0.00000000e+000, 0.00000000e+000, 0.00000000e+000,\n       0.00000000e+000, 0.00000000e+000, 0.00000000e+000, 0.00000000e+000,\n       0.00000000e+000, 0.00000000e+000, 0.00000000e+000, 0.00000000e+000,\n       0.00000000e+000, 0.00000000e+000, 0.00000000e+000, 0.00000000e+000,\n       0.00000000e+000, 0.00000000e+000, 0.00000000e+000, 0.00000000e+000,\n       0.00000000e+000, 0.00000000e+000, 0.00000000e+000, 0.00000000e+000,\n       0.00000000e+000, 0.00000000e+000, 0.00000000e+000, 0.00000000e+000,\n       0.00000000e+000, 0.00000000e+000, 0.00000000e+000, 0.00000000e+000,\n       0.00000000e+000, 0.00000000e+000, 0.00000000e+000, 0.00000000e+000,\n       0.00000000e+000, 0.00000000e+000, 0.00000000e+000, 0.00000000e+000,\n       0.00000000e+000, 0.00000000e+000, 0.00000000e+000, 0.00000000e+000,\n       0.00000000e+000, 0.00000000e+000, 0.00000000e+000, 0.00000000e+000,\n       0.00000000e+000, 0.00000000e+000, 0.00000000e+000, 0.00000000e+000,\n       0.00000000e+000, 0.00000000e+000, 0.00000000e+000, 0.00000000e+000,\n       0.00000000e+000, 0.00000000e+000, 0.00000000e+000, 0.00000000e+000,\n       0.00000000e+000, 0.00000000e+000, 0.00000000e+000, 0.00000000e+000,\n       0.00000000e+000, 0.00000000e+000, 0.00000000e+000, 0.00000000e+000,\n       0.00000000e+000, 0.00000000e+000, 0.00000000e+000, 0.00000000e+000,\n       0.00000000e+000, 0.00000000e+000, 0.00000000e+000, 0.00000000e+000,\n       0.00000000e+000, 0.00000000e+000, 0.00000000e+000, 0.00000000e+000,\n       0.00000000e+000, 0.00000000e+000, 0.00000000e+000, 0.00000000e+000,\n       0.00000000e+000, 0.00000000e+000, 0.00000000e+000, 0.00000000e+000,\n       0.00000000e+000, 0.00000000e+000, 0.00000000e+000, 0.00000000e+000,\n       0.00000000e+000, 0.00000000e+000, 0.00000000e+000, 0.00000000e+000,\n       0.00000000e+000, 0.00000000e+000, 0.00000000e+000, 0.00000000e+000,\n       0.00000000e+000, 0.00000000e+000, 0.00000000e+000, 0.00000000e+000,\n       0.00000000e+000, 0.00000000e+000, 0.00000000e+000, 0.00000000e+000,\n       0.00000000e+000, 0.00000000e+000, 0.00000000e+000, 0.00000000e+000,\n       0.00000000e+000, 0.00000000e+000, 0.00000000e+000, 0.00000000e+000,\n       0.00000000e+000, 0.00000000e+000, 0.00000000e+000, 0.00000000e+000,\n       0.00000000e+000, 0.00000000e+000, 0.00000000e+000, 0.00000000e+000,\n       0.00000000e+000, 0.00000000e+000, 0.00000000e+000, 0.00000000e+000,\n       0.00000000e+000, 0.00000000e+000, 0.00000000e+000, 0.00000000e+000,\n       0.00000000e+000, 0.00000000e+000, 0.00000000e+000, 0.00000000e+000,\n       0.00000000e+000, 0.00000000e+000, 0.00000000e+000, 0.00000000e+000,\n       0.00000000e+000, 0.00000000e+000, 0.00000000e+000, 0.00000000e+000,\n       0.00000000e+000, 0.00000000e+000, 0.00000000e+000, 0.00000000e+000,\n       0.00000000e+000, 0.00000000e+000, 0.00000000e+000, 0.00000000e+000,\n       0.00000000e+000, 0.00000000e+000, 0.00000000e+000, 0.00000000e+000,\n       0.00000000e+000, 0.00000000e+000, 0.00000000e+000, 0.00000000e+000,\n       0.00000000e+000, 0.00000000e+000, 0.00000000e+000, 0.00000000e+000,\n       0.00000000e+000, 0.00000000e+000, 0.00000000e+000, 0.00000000e+000,\n       0.00000000e+000, 0.00000000e+000, 0.00000000e+000, 0.00000000e+000,\n       0.00000000e+000, 0.00000000e+000, 0.00000000e+000, 0.00000000e+000,\n       0.00000000e+000, 0.00000000e+000, 0.00000000e+000, 0.00000000e+000,\n       0.00000000e+000, 0.00000000e+000, 0.00000000e+000, 0.00000000e+000,\n       0.00000000e+000, 0.00000000e+000, 0.00000000e+000, 0.00000000e+000,\n       0.00000000e+000, 0.00000000e+000, 0.00000000e+000, 0.00000000e+000,\n       0.00000000e+000, 0.00000000e+000, 0.00000000e+000, 0.00000000e+000,\n       0.00000000e+000, 0.00000000e+000, 0.00000000e+000, 0.00000000e+000,\n       0.00000000e+000, 0.00000000e+000, 0.00000000e+000, 0.00000000e+000,\n       0.00000000e+000, 0.00000000e+000, 0.00000000e+000, 0.00000000e+000,\n       0.00000000e+000, 0.00000000e+000, 0.00000000e+000, 0.00000000e+000,\n       0.00000000e+000, 0.00000000e+000, 0.00000000e+000, 0.00000000e+000,\n       0.00000000e+000, 0.00000000e+000, 0.00000000e+000, 0.00000000e+000,\n       0.00000000e+000, 0.00000000e+000, 0.00000000e+000, 0.00000000e+000,\n       0.00000000e+000, 0.00000000e+000, 0.00000000e+000, 0.00000000e+000,\n       0.00000000e+000, 0.00000000e+000, 0.00000000e+000, 0.00000000e+000,\n       0.00000000e+000, 0.00000000e+000, 0.00000000e+000, 0.00000000e+000,\n       0.00000000e+000, 0.00000000e+000, 0.00000000e+000, 0.00000000e+000,\n       0.00000000e+000, 0.00000000e+000, 0.00000000e+000, 0.00000000e+000,\n       0.00000000e+000, 0.00000000e+000, 0.00000000e+000, 0.00000000e+000,\n       0.00000000e+000, 0.00000000e+000, 0.00000000e+000, 0.00000000e+000,\n       0.00000000e+000, 0.00000000e+000, 0.00000000e+000, 0.00000000e+000,\n       0.00000000e+000, 0.00000000e+000, 0.00000000e+000, 0.00000000e+000,\n       0.00000000e+000, 0.00000000e+000, 0.00000000e+000, 0.00000000e+000,\n       0.00000000e+000, 0.00000000e+000, 0.00000000e+000, 0.00000000e+000,\n       0.00000000e+000, 0.00000000e+000, 0.00000000e+000, 0.00000000e+000,\n       0.00000000e+000, 0.00000000e+000, 0.00000000e+000, 0.00000000e+000,\n       0.00000000e+000, 0.00000000e+000, 0.00000000e+000, 0.00000000e+000,\n       0.00000000e+000, 0.00000000e+000, 0.00000000e+000, 0.00000000e+000,\n       0.00000000e+000, 0.00000000e+000, 0.00000000e+000, 0.00000000e+000,\n       0.00000000e+000, 0.00000000e+000, 0.00000000e+000, 0.00000000e+000,\n       3.26083326e-322, 5.24336441e-231, 4.04009647e-300, 0.00000000e+000,\n       0.00000000e+000, 0.00000000e+000, 0.00000000e+000, 0.00000000e+000,\n       0.00000000e+000, 0.00000000e+000, 0.00000000e+000, 0.00000000e+000,\n       0.00000000e+000, 0.00000000e+000, 0.00000000e+000, 0.00000000e+000,\n       0.00000000e+000, 0.00000000e+000, 0.00000000e+000, 0.00000000e+000,\n       0.00000000e+000, 0.00000000e+000, 0.00000000e+000, 0.00000000e+000])"
     },
     "execution_count": 158,
     "metadata": {},
     "output_type": "execute_result"
    }
   ],
   "source": [
    "pvalues_f"
   ],
   "metadata": {
    "collapsed": false
   }
  },
  {
   "cell_type": "code",
   "execution_count": 160,
   "outputs": [],
   "source": [
    "k = F.shape[0] - (pvalues_f > 0.05).sum()"
   ],
   "metadata": {
    "collapsed": false
   }
  },
  {
   "cell_type": "code",
   "execution_count": 161,
   "outputs": [
    {
     "data": {
      "text/plain": "392"
     },
     "execution_count": 161,
     "metadata": {},
     "output_type": "execute_result"
    }
   ],
   "source": [
    "k"
   ],
   "metadata": {
    "collapsed": false
   }
  },
  {
   "cell_type": "markdown",
   "source": [
    "## 3.1.2.4 互信息法"
   ],
   "metadata": {
    "collapsed": false
   }
  },
  {
   "cell_type": "code",
   "execution_count": 162,
   "outputs": [],
   "source": [
    "from sklearn.feature_selection import mutual_info_classif as MIC"
   ],
   "metadata": {
    "collapsed": false
   }
  },
  {
   "cell_type": "code",
   "execution_count": 163,
   "outputs": [],
   "source": [
    "result = MIC(x_fsvar,y)"
   ],
   "metadata": {
    "collapsed": false
   }
  },
  {
   "cell_type": "code",
   "execution_count": 164,
   "outputs": [],
   "source": [
    "k = result.shape[0] - sum(result <=0)"
   ],
   "metadata": {
    "collapsed": false
   }
  },
  {
   "cell_type": "markdown",
   "source": [
    "# 3.2 EMbedded  嵌入法"
   ],
   "metadata": {
    "collapsed": false
   }
  },
  {
   "cell_type": "code",
   "execution_count": 166,
   "outputs": [],
   "source": [
    "from sklearn.feature_selection import SelectFromModel\n",
    "from sklearn.ensemble import RandomForestClassifier as RFC\n",
    "\n",
    "RFC_ = RFC(n_estimators=10,random_state=0)\n",
    "x_embedde = SelectFromModel(RFC_,threshold=0.005).fit_transform(x,y)"
   ],
   "metadata": {
    "collapsed": false
   }
  },
  {
   "cell_type": "code",
   "execution_count": 167,
   "outputs": [
    {
     "data": {
      "text/plain": "(42000, 47)"
     },
     "execution_count": 167,
     "metadata": {},
     "output_type": "execute_result"
    }
   ],
   "source": [
    "x_embedde.shape"
   ],
   "metadata": {
    "collapsed": false
   }
  },
  {
   "cell_type": "code",
   "execution_count": 168,
   "outputs": [
    {
     "data": {
      "text/plain": "array([0.00000000e+00, 0.00000000e+00, 0.00000000e+00, 0.00000000e+00,\n       0.00000000e+00, 0.00000000e+00, 0.00000000e+00, 0.00000000e+00,\n       0.00000000e+00, 0.00000000e+00, 0.00000000e+00, 0.00000000e+00,\n       0.00000000e+00, 0.00000000e+00, 0.00000000e+00, 0.00000000e+00,\n       0.00000000e+00, 0.00000000e+00, 0.00000000e+00, 0.00000000e+00,\n       0.00000000e+00, 0.00000000e+00, 0.00000000e+00, 0.00000000e+00,\n       0.00000000e+00, 0.00000000e+00, 0.00000000e+00, 0.00000000e+00,\n       0.00000000e+00, 0.00000000e+00, 0.00000000e+00, 0.00000000e+00,\n       0.00000000e+00, 0.00000000e+00, 4.96726660e-06, 0.00000000e+00,\n       0.00000000e+00, 0.00000000e+00, 0.00000000e+00, 4.39623410e-06,\n       7.35101726e-06, 0.00000000e+00, 0.00000000e+00, 0.00000000e+00,\n       4.70425050e-06, 0.00000000e+00, 0.00000000e+00, 0.00000000e+00,\n       0.00000000e+00, 0.00000000e+00, 5.09114204e-06, 0.00000000e+00,\n       0.00000000e+00, 0.00000000e+00, 0.00000000e+00, 0.00000000e+00,\n       0.00000000e+00, 0.00000000e+00, 0.00000000e+00, 0.00000000e+00,\n       0.00000000e+00, 0.00000000e+00, 0.00000000e+00, 1.04375545e-05,\n       0.00000000e+00, 0.00000000e+00, 5.29478959e-05, 3.21066639e-04,\n       3.72896708e-05, 7.84734515e-05, 3.81080672e-05, 4.28007718e-05,\n       7.70708109e-06, 4.96573475e-05, 1.07617170e-04, 1.68715849e-05,\n       1.17836211e-05, 2.55943987e-05, 0.00000000e+00, 0.00000000e+00,\n       0.00000000e+00, 0.00000000e+00, 0.00000000e+00, 0.00000000e+00,\n       0.00000000e+00, 0.00000000e+00, 0.00000000e+00, 0.00000000e+00,\n       0.00000000e+00, 4.98169346e-06, 4.94027841e-06, 2.83311486e-05,\n       4.09543756e-05, 1.72821858e-04, 9.57100915e-05, 2.45907321e-04,\n       1.83422252e-04, 1.67021648e-03, 1.33678817e-03, 4.97681606e-04,\n       9.81528697e-04, 2.57107282e-03, 1.29146589e-03, 1.65060000e-03,\n       1.86071384e-04, 9.53324105e-05, 2.15756468e-05, 1.93742313e-05,\n       1.76038786e-05, 1.04294263e-05, 0.00000000e+00, 0.00000000e+00,\n       0.00000000e+00, 0.00000000e+00, 0.00000000e+00, 0.00000000e+00,\n       0.00000000e+00, 2.67461542e-05, 6.87034035e-06, 7.72427467e-05,\n       1.32367326e-04, 1.90286903e-04, 5.95754392e-04, 1.20094659e-03,\n       8.38179934e-04, 1.55287193e-03, 1.25015678e-03, 3.10076865e-03,\n       3.53710687e-03, 6.09457703e-04, 4.40384898e-04, 6.77374025e-04,\n       5.30201989e-04, 1.79987666e-04, 1.82267211e-04, 5.92697964e-05,\n       1.80767363e-05, 5.24921596e-06, 0.00000000e+00, 0.00000000e+00,\n       0.00000000e+00, 0.00000000e+00, 0.00000000e+00, 0.00000000e+00,\n       3.63793673e-05, 6.43483201e-05, 8.13740620e-05, 1.76906929e-04,\n       3.00785753e-04, 2.00237912e-03, 2.17988175e-03, 8.02080061e-04,\n       5.59932650e-03, 5.32674802e-03, 9.82923375e-03, 4.75128066e-03,\n       7.25896751e-03, 2.57320673e-03, 6.13199153e-03, 2.79002672e-03,\n       8.60740254e-04, 1.68934107e-03, 6.62626894e-04, 3.72068454e-04,\n       1.11864559e-04, 5.01402939e-06, 2.59729852e-06, 0.00000000e+00,\n       0.00000000e+00, 0.00000000e+00, 0.00000000e+00, 5.24370634e-06,\n       5.39166565e-05, 3.11018823e-05, 2.34878167e-04, 3.89033229e-04,\n       2.30902923e-03, 2.57256846e-03, 1.38900529e-03, 2.65304800e-03,\n       4.67867505e-03, 3.49571544e-03, 1.74013763e-03, 4.74732141e-03,\n       2.19504075e-03, 2.01126998e-03, 2.39322271e-03, 1.94485134e-03,\n       1.91736734e-03, 1.26111979e-03, 7.17005718e-04, 1.41834376e-03,\n       2.47847664e-04, 4.23798505e-05, 0.00000000e+00, 0.00000000e+00,\n       0.00000000e+00, 0.00000000e+00, 2.64644966e-06, 1.02232772e-05,\n       4.19366739e-05, 1.51187645e-04, 3.84353726e-04, 5.75432437e-04,\n       1.20251320e-03, 1.11728097e-03, 1.43117176e-03, 1.85993731e-03,\n       3.18900495e-03, 4.24721472e-03, 7.15525695e-03, 4.59547276e-03,\n       7.86762226e-03, 4.41108734e-03, 1.54578735e-03, 1.06705126e-03,\n       1.49258829e-03, 1.28480766e-03, 9.93716659e-04, 1.33748351e-03,\n       1.04061523e-03, 1.40851781e-04, 2.46917895e-05, 0.00000000e+00,\n       0.00000000e+00, 0.00000000e+00, 1.23372533e-05, 1.91675705e-05,\n       2.16315147e-04, 2.36117271e-04, 8.51271969e-04, 7.04486223e-04,\n       1.07859246e-03, 1.64029329e-03, 2.90544958e-03, 3.15084018e-03,\n       4.87802961e-03, 2.34634670e-03, 3.93852105e-03, 5.43460799e-03,\n       5.86237142e-03, 3.15346289e-03, 6.82349562e-03, 4.34223264e-03,\n       3.86949586e-03, 2.03220256e-03, 7.00743969e-04, 1.01816134e-03,\n       6.52755553e-04, 1.05428274e-04, 4.64072405e-06, 8.60096309e-06,\n       0.00000000e+00, 9.18662879e-06, 7.05716770e-06, 2.57599316e-05,\n       6.82385198e-05, 2.48904426e-04, 1.27880958e-03, 1.34106798e-03,\n       9.88188421e-04, 2.10154796e-03, 3.36772807e-03, 6.04369789e-03,\n       3.07695369e-03, 3.00021995e-03, 3.37748090e-03, 4.86394760e-03,\n       3.54139826e-03, 5.97819039e-03, 1.71616932e-03, 4.15596755e-03,\n       2.47392287e-03, 2.36136390e-03, 1.63397286e-03, 4.48393070e-04,\n       5.54092223e-04, 4.14227893e-05, 0.00000000e+00, 0.00000000e+00,\n       0.00000000e+00, 0.00000000e+00, 5.26899634e-06, 1.56088268e-04,\n       1.13966961e-04, 1.74915348e-04, 6.44627258e-04, 5.68303338e-04,\n       1.63319806e-03, 4.62162655e-03, 5.83028006e-03, 5.84100388e-03,\n       2.83270210e-03, 2.14239040e-03, 3.35948722e-03, 2.60839810e-03,\n       2.50701816e-03, 4.82670205e-03, 5.89666662e-03, 3.04992055e-03,\n       3.41911464e-03, 1.12637810e-03, 7.01707700e-04, 2.10535503e-04,\n       2.04943891e-04, 6.40794860e-05, 2.64614091e-06, 0.00000000e+00,\n       0.00000000e+00, 0.00000000e+00, 3.52876307e-06, 1.73010344e-05,\n       3.23154454e-04, 1.18730749e-04, 5.01029809e-04, 1.50202308e-03,\n       1.53700272e-03, 6.11456403e-03, 4.34902573e-03, 3.35546394e-03,\n       5.87789239e-03, 2.51293898e-03, 3.17370607e-03, 3.45751913e-03,\n       2.29793132e-03, 4.17392058e-03, 5.82675966e-03, 2.83060606e-03,\n       3.79048860e-03, 1.04936114e-03, 7.03677686e-04, 6.28439770e-04,\n       1.15259208e-04, 7.44590415e-05, 1.04994603e-05, 0.00000000e+00,\n       0.00000000e+00, 0.00000000e+00, 1.58480368e-05, 8.38015968e-06,\n       7.29727487e-05, 4.58356454e-04, 5.41496181e-04, 1.05167245e-03,\n       1.64596693e-03, 3.00082596e-03, 5.53132168e-03, 4.04488155e-03,\n       2.62974709e-03, 5.05500552e-03, 6.96693959e-03, 3.39745427e-03,\n       3.32871913e-03, 3.41607543e-03, 2.74289623e-03, 1.34605792e-03,\n       1.28266397e-03, 2.86907034e-03, 4.37592501e-03, 5.70010069e-04,\n       6.28420535e-05, 8.66985846e-06, 1.88614134e-05, 0.00000000e+00,\n       0.00000000e+00, 5.07941099e-06, 0.00000000e+00, 3.30247867e-05,\n       4.07335970e-05, 2.06942431e-04, 1.13712177e-03, 9.31937042e-04,\n       4.14319758e-03, 5.55092635e-03, 3.00151203e-03, 3.90947224e-03,\n       3.56773974e-03, 6.51955884e-03, 9.53149654e-03, 1.04694058e-02,\n       2.78585321e-03, 3.32633681e-03, 4.92832778e-03, 1.47824275e-03,\n       9.11054702e-04, 7.61598938e-04, 2.70451017e-03, 5.35404177e-04,\n       9.96457782e-05, 3.14222399e-05, 0.00000000e+00, 0.00000000e+00,\n       0.00000000e+00, 0.00000000e+00, 3.96978697e-06, 5.21588243e-06,\n       4.83166769e-05, 2.73878244e-04, 7.87729782e-04, 1.50109957e-03,\n       4.68533446e-03, 3.87612563e-03, 5.67003476e-03, 2.36023388e-03,\n       5.93148815e-03, 4.71373442e-03, 5.52560277e-03, 1.02884076e-02,\n       4.29557610e-03, 1.12774927e-02, 2.77441947e-03, 2.72491516e-03,\n       1.44030628e-03, 4.10553375e-03, 2.64943685e-04, 5.11833536e-04,\n       1.40472270e-04, 1.79084679e-05, 1.77952716e-05, 5.14181932e-06,\n       0.00000000e+00, 0.00000000e+00, 0.00000000e+00, 1.05843388e-05,\n       1.27523758e-04, 6.43468836e-04, 8.31565905e-04, 1.70449912e-03,\n       1.97585662e-03, 1.03326213e-02, 6.51715463e-03, 2.51474500e-03,\n       4.45321356e-03, 9.25048608e-03, 5.64462078e-03, 4.37348237e-03,\n       2.48720699e-03, 6.86810239e-03, 1.74833765e-03, 1.26700872e-03,\n       9.76402337e-04, 1.14948866e-03, 1.12740475e-03, 3.55493697e-04,\n       1.65851188e-04, 5.68633276e-05, 0.00000000e+00, 0.00000000e+00,\n       0.00000000e+00, 0.00000000e+00, 1.66021879e-05, 5.45348998e-05,\n       4.59211388e-05, 2.34098914e-04, 5.06234432e-03, 4.27063479e-03,\n       2.39257951e-03, 4.61990114e-03, 3.30496636e-03, 3.33854229e-03,\n       3.32969638e-03, 6.80014826e-03, 2.53704828e-03, 1.90375781e-03,\n       2.48951700e-03, 3.25158138e-03, 2.31606267e-03, 1.80236457e-03,\n       1.17266716e-03, 8.52676338e-04, 4.79005366e-04, 3.50563863e-04,\n       1.56906559e-04, 2.49268946e-05, 1.03169010e-05, 8.82122072e-06,\n       0.00000000e+00, 0.00000000e+00, 0.00000000e+00, 5.90546235e-05,\n       7.88704875e-05, 8.93634610e-04, 6.94020542e-04, 1.20345523e-03,\n       2.54044035e-03, 2.83230622e-03, 4.09933983e-03, 3.29395754e-03,\n       7.25903583e-03, 9.87880420e-03, 1.00977121e-02, 3.13706882e-03,\n       1.45463444e-03, 2.30625167e-03, 4.36681075e-03, 1.40686900e-03,\n       7.71080832e-04, 4.72573500e-04, 6.92470927e-04, 2.10882278e-04,\n       1.59887529e-04, 4.25095501e-05, 9.34580618e-06, 5.17727569e-06,\n       0.00000000e+00, 0.00000000e+00, 8.49057021e-06, 8.09379015e-05,\n       1.52667865e-04, 2.94682754e-04, 1.35550050e-03, 4.49735800e-03,\n       1.28105089e-03, 2.31970006e-03, 2.34781587e-03, 1.27636021e-02,\n       2.19523640e-03, 2.41654975e-03, 2.10844302e-03, 1.71325263e-03,\n       8.69359356e-04, 3.91492035e-03, 6.91924396e-03, 1.10238422e-03,\n       1.33621731e-03, 1.34601819e-03, 9.33978020e-04, 2.82706898e-04,\n       1.17855133e-04, 7.23606373e-05, 0.00000000e+00, 0.00000000e+00,\n       0.00000000e+00, 0.00000000e+00, 7.93842272e-06, 2.30929786e-04,\n       1.09578044e-04, 9.39787779e-04, 2.50398713e-03, 1.77156509e-03,\n       2.03739208e-03, 9.54215286e-03, 2.52326238e-03, 2.97043796e-03,\n       4.37234458e-03, 1.99656347e-03, 3.08114892e-03, 1.65516988e-03,\n       1.07792201e-03, 2.44342936e-03, 1.22032946e-03, 5.26252267e-03,\n       8.27756677e-04, 8.44727742e-04, 3.68115383e-04, 1.73202448e-04,\n       1.26854745e-04, 1.52414678e-05, 1.04038762e-05, 0.00000000e+00,\n       0.00000000e+00, 0.00000000e+00, 0.00000000e+00, 3.76744549e-05,\n       1.83409930e-04, 1.45882648e-03, 1.00645114e-03, 3.27870252e-03,\n       2.13913782e-03, 6.13495296e-03, 3.50175122e-03, 3.52761230e-03,\n       2.75623799e-03, 3.97448421e-03, 1.44302862e-03, 1.75858337e-03,\n       1.51206834e-03, 1.46700318e-03, 9.08321557e-04, 2.22925996e-03,\n       1.48254286e-03, 8.57378425e-04, 3.99971776e-04, 5.11110295e-04,\n       4.36565498e-05, 2.71405310e-05, 0.00000000e+00, 0.00000000e+00,\n       0.00000000e+00, 0.00000000e+00, 4.68939741e-06, 6.85322336e-05,\n       7.32909456e-04, 3.69494001e-04, 9.37742251e-04, 3.11084738e-03,\n       2.51401499e-03, 4.48363496e-03, 2.22316180e-03, 1.09418645e-03,\n       1.98315806e-03, 1.07395133e-03, 1.21395404e-03, 1.90010236e-03,\n       1.07770399e-03, 9.46524339e-04, 7.22390654e-04, 8.23678460e-04,\n       4.86429638e-04, 1.69959091e-03, 2.30072266e-04, 1.58290498e-04,\n       7.08265381e-05, 1.03258860e-05, 0.00000000e+00, 0.00000000e+00,\n       0.00000000e+00, 0.00000000e+00, 0.00000000e+00, 2.37481499e-05,\n       1.24712280e-04, 1.34419610e-04, 7.17713513e-04, 9.41939756e-04,\n       4.60329650e-03, 4.77462409e-03, 2.66748761e-03, 2.03891226e-03,\n       1.56470228e-03, 1.41617812e-03, 1.28207400e-03, 1.42887646e-03,\n       8.46671326e-04, 1.77447428e-03, 1.51782753e-03, 6.33095101e-04,\n       6.30765641e-04, 2.88161403e-04, 3.05029795e-04, 1.12466566e-04,\n       2.75681464e-05, 4.55441849e-06, 5.16468244e-06, 0.00000000e+00,\n       0.00000000e+00, 0.00000000e+00, 5.08305424e-06, 4.89332518e-06,\n       2.46008387e-05, 8.31376723e-05, 4.79932393e-04, 3.30739912e-04,\n       1.10543090e-03, 3.08453861e-03, 4.17801871e-03, 2.49670681e-03,\n       4.16378285e-03, 5.66440415e-03, 7.09175694e-03, 2.36066429e-03,\n       1.03455291e-03, 5.95763775e-04, 8.25377463e-04, 3.50173207e-04,\n       4.44834129e-04, 2.05457739e-04, 5.33080607e-05, 4.73933260e-05,\n       3.56526224e-05, 0.00000000e+00, 0.00000000e+00, 0.00000000e+00,\n       0.00000000e+00, 0.00000000e+00, 0.00000000e+00, 4.46238647e-06,\n       2.83095572e-05, 5.78206819e-05, 4.26331449e-04, 2.66286043e-04,\n       4.55553332e-04, 1.15799246e-03, 1.06486385e-03, 2.11733743e-03,\n       1.66150100e-03, 8.66222042e-04, 6.60990575e-04, 2.55402546e-03,\n       8.20486729e-04, 4.02940501e-04, 3.85855702e-04, 2.47553529e-04,\n       1.37233373e-04, 1.16468104e-04, 4.81919631e-05, 3.69201614e-05,\n       9.72640279e-06, 0.00000000e+00, 0.00000000e+00, 0.00000000e+00,\n       0.00000000e+00, 0.00000000e+00, 0.00000000e+00, 0.00000000e+00,\n       0.00000000e+00, 4.09401975e-05, 2.97450544e-05, 1.83375003e-04,\n       3.00031936e-04, 9.79359848e-04, 4.42908891e-04, 3.62099959e-04,\n       6.54463181e-04, 8.79186101e-04, 4.47248554e-04, 6.65237461e-04,\n       6.91068725e-04, 3.22617137e-04, 4.43746743e-04, 2.16706421e-04,\n       3.38144020e-04, 7.56933474e-05, 1.79747927e-05, 0.00000000e+00,\n       0.00000000e+00, 0.00000000e+00, 0.00000000e+00, 0.00000000e+00,\n       0.00000000e+00, 0.00000000e+00, 0.00000000e+00, 0.00000000e+00,\n       7.44476502e-06, 1.16079201e-05, 0.00000000e+00, 1.46280748e-05,\n       5.17941553e-06, 5.09921173e-05, 7.41857827e-05, 3.93379316e-04,\n       2.47452360e-04, 3.13251304e-04, 3.66999099e-04, 1.30812201e-04,\n       1.49054545e-04, 8.38358796e-05, 1.24210033e-04, 4.89363342e-05,\n       1.42399445e-05, 4.85723858e-06, 0.00000000e+00, 1.54516611e-05,\n       0.00000000e+00, 0.00000000e+00, 0.00000000e+00, 0.00000000e+00,\n       0.00000000e+00, 0.00000000e+00, 0.00000000e+00, 0.00000000e+00,\n       0.00000000e+00, 0.00000000e+00, 0.00000000e+00, 0.00000000e+00,\n       0.00000000e+00, 0.00000000e+00, 9.68555485e-06, 0.00000000e+00,\n       4.37879533e-06, 0.00000000e+00, 0.00000000e+00, 1.01252722e-05,\n       0.00000000e+00, 0.00000000e+00, 0.00000000e+00, 0.00000000e+00,\n       7.93909865e-06, 0.00000000e+00, 0.00000000e+00, 0.00000000e+00,\n       0.00000000e+00, 0.00000000e+00, 0.00000000e+00, 0.00000000e+00])"
     },
     "execution_count": 168,
     "metadata": {},
     "output_type": "execute_result"
    }
   ],
   "source": [
    "RFC_.fit(x,y).feature_importances_"
   ],
   "metadata": {
    "collapsed": false
   }
  },
  {
   "cell_type": "code",
   "execution_count": 170,
   "outputs": [],
   "source": [
    "threshold = np.linspace(0,RFC_.fit(x,y).feature_importances_.max(),20)"
   ],
   "metadata": {
    "collapsed": false
   }
  },
  {
   "cell_type": "code",
   "execution_count": 172,
   "outputs": [
    {
     "data": {
      "text/plain": "<Figure size 640x480 with 1 Axes>",
      "image/png": "[encoded data removed]"
     },
     "metadata": {},
     "output_type": "display_data"
    }
   ],
   "source": [
    "import matplotlib.pyplot as plt\n",
    "score = []\n",
    "for i in threshold:\n",
    "    x_embedde = SelectFromModel(RFC_,threshold=i).fit_transform(x,y)\n",
    "    once = cross_val_score(RFC_,x_embedde,y,cv=5).mean()\n",
    "    score.append(once)\n",
    "plt.plot(threshold,score)\n",
    "plt.show()"
   ],
   "metadata": {
    "collapsed": false
   }
  },
  {
   "cell_type": "markdown",
   "source": [
    "# 3.3 Wrapper包装法"
   ],
   "metadata": {
    "collapsed": false
   }
  },
  {
   "cell_type": "code",
   "execution_count": 173,
   "outputs": [
    {
     "data": {
      "text/plain": "340"
     },
     "execution_count": 173,
     "metadata": {},
     "output_type": "execute_result"
    }
   ],
   "source": [
    "from sklearn.feature_selection import RFE\n",
    "RFC_ = RFC(n_estimators=10,random_state=0)\n",
    "selector = RFE(RFC_,n_features_to_select=340,step=50).fit(x,y)\n",
    "\n",
    "selector.support_.sum()"
   ],
   "metadata": {
    "collapsed": false
   }
  },
  {
   "cell_type": "code",
   "execution_count": null,
   "outputs": [],
   "source": [
    "selector.ranking_"
   ],
   "metadata": {
    "collapsed": false
   }
  },
  {
   "cell_type": "code",
   "execution_count": 174,
   "outputs": [
    {
     "data": {
      "text/plain": "0.9379761904761905"
     },
     "execution_count": 174,
     "metadata": {},
     "output_type": "execute_result"
    }
   ],
   "source": [
    "x_wrapper = selector.transform(x)\n",
    "cross_val_score(RFC_,x_wrapper,y,cv=5).mean()"
   ],
   "metadata": {
    "collapsed": false
   }
  },
  {
   "cell_type": "code",
   "execution_count": null,
   "outputs": [],
   "source": [],
   "metadata": {
    "collapsed": false
   }
  }
 ],
 "metadata": {
  "kernelspec": {
   "display_name": "Python 3",
   "language": "python",
   "name": "python3"
  },
  "language_info": {
   "codemirror_mode": {
    "name": "ipython",
    "version": 2
   },
   "file_extension": ".py",
   "mimetype": "text/x-python",
   "name": "python",
   "nbconvert_exporter": "python",
   "pygments_lexer": "ipython2",
   "version": "2.7.6"
  }
 },
 "nbformat": 4,
 "nbformat_minor": 0
}
